{
  "nbformat": 4,
  "nbformat_minor": 0,
  "metadata": {
    "colab": {
      "name": "Portfolio Risk Calculator",
      "provenance": [],
      "collapsed_sections": [],
      "authorship_tag": "ABX9TyP/TEkXUwHOZ2IbuTT7jEO9",
      "include_colab_link": true
    },
    "kernelspec": {
      "name": "python3",
      "display_name": "Python 3"
    },
    "language_info": {
      "name": "python"
    }
  },
  "cells": [
    {
      "cell_type": "markdown",
      "metadata": {
        "id": "view-in-github",
        "colab_type": "text"
      },
      "source": [
        "<a href=\"https://colab.research.google.com/github/HardikZala/Data-Analysis/blob/main/Portfolio_Risk_Calculator.ipynb\" target=\"_parent\"><img src=\"https://colab.research.google.com/assets/colab-badge.svg\" alt=\"Open In Colab\"/></a>"
      ]
    },
    {
      "cell_type": "code",
      "execution_count": null,
      "metadata": {
        "id": "ZesvT4m9k1Lb"
      },
      "outputs": [],
      "source": [
        "# Web scrape yahoo finance, based on stock ticker that the user enters\n",
        "# create portfolio with all the stock information, and portfolio weights\n",
        "# calculate and generate dashboard to display portfolio risk\n",
        "# BONUS: compare portfolios to other portfolios with similar risk and returns\n",
        "# BONUS: ADD crypto into the portfolio: CHALLANGE: cryoti trades 7 days a week, stock markets trade 5 days a week:\n",
        "  #possible solution: make stock null values friday close value: possibly change trading days to 365 from 252(yearly trading days) "
      ]
    },
    {
      "cell_type": "code",
      "source": [
        "!pip install bs4\n",
        "!pip install requests"
      ],
      "metadata": {
        "colab": {
          "base_uri": "https://localhost:8080/"
        },
        "id": "GemB3qo8YGVj",
        "outputId": "bee51e00-cb73-4478-97d7-b965c1f1377c"
      },
      "execution_count": null,
      "outputs": [
        {
          "output_type": "stream",
          "name": "stdout",
          "text": [
            "Looking in indexes: https://pypi.org/simple, https://us-python.pkg.dev/colab-wheels/public/simple/\n",
            "Requirement already satisfied: bs4 in /usr/local/lib/python3.7/dist-packages (0.0.1)\n",
            "Requirement already satisfied: beautifulsoup4 in /usr/local/lib/python3.7/dist-packages (from bs4) (4.6.3)\n",
            "Looking in indexes: https://pypi.org/simple, https://us-python.pkg.dev/colab-wheels/public/simple/\n",
            "Requirement already satisfied: requests in /usr/local/lib/python3.7/dist-packages (2.23.0)\n",
            "Requirement already satisfied: chardet<4,>=3.0.2 in /usr/local/lib/python3.7/dist-packages (from requests) (3.0.4)\n",
            "Requirement already satisfied: idna<3,>=2.5 in /usr/local/lib/python3.7/dist-packages (from requests) (2.10)\n",
            "Requirement already satisfied: certifi>=2017.4.17 in /usr/local/lib/python3.7/dist-packages (from requests) (2022.6.15)\n",
            "Requirement already satisfied: urllib3!=1.25.0,!=1.25.1,<1.26,>=1.21.1 in /usr/local/lib/python3.7/dist-packages (from requests) (1.24.3)\n"
          ]
        }
      ]
    },
    {
      "cell_type": "code",
      "source": [
        "import pandas as pd\n",
        "import numpy as np\n",
        "import re\n",
        "import json\n",
        "import csv\n",
        "from io import StringIO\n",
        "from bs4 import BeautifulSoup\n",
        "import requests"
      ],
      "metadata": {
        "id": "wr1PCPTnmIVp"
      },
      "execution_count": null,
      "outputs": []
    },
    {
      "cell_type": "code",
      "source": [
        "!pip install yfinance"
      ],
      "metadata": {
        "colab": {
          "base_uri": "https://localhost:8080/",
          "height": 679
        },
        "id": "VpfkDCRyqcyB",
        "outputId": "f99aca27-c22f-4f0d-90ae-beda31537c9e"
      },
      "execution_count": null,
      "outputs": [
        {
          "output_type": "stream",
          "name": "stdout",
          "text": [
            "Looking in indexes: https://pypi.org/simple, https://us-python.pkg.dev/colab-wheels/public/simple/\n",
            "Collecting yfinance\n",
            "  Downloading yfinance-0.1.72-py2.py3-none-any.whl (27 kB)\n",
            "Collecting lxml>=4.5.1\n",
            "  Downloading lxml-4.9.0-cp37-cp37m-manylinux_2_17_x86_64.manylinux2014_x86_64.manylinux_2_24_x86_64.whl (6.4 MB)\n",
            "\u001b[K     |████████████████████████████████| 6.4 MB 30.2 MB/s \n",
            "\u001b[?25hRequirement already satisfied: multitasking>=0.0.7 in /usr/local/lib/python3.7/dist-packages (from yfinance) (0.0.10)\n",
            "Requirement already satisfied: numpy>=1.15 in /usr/local/lib/python3.7/dist-packages (from yfinance) (1.21.6)\n",
            "Collecting requests>=2.26\n",
            "  Downloading requests-2.28.0-py3-none-any.whl (62 kB)\n",
            "\u001b[K     |████████████████████████████████| 62 kB 1.3 MB/s \n",
            "\u001b[?25hRequirement already satisfied: pandas>=0.24.0 in /usr/local/lib/python3.7/dist-packages (from yfinance) (1.3.5)\n",
            "Requirement already satisfied: python-dateutil>=2.7.3 in /usr/local/lib/python3.7/dist-packages (from pandas>=0.24.0->yfinance) (2.8.2)\n",
            "Requirement already satisfied: pytz>=2017.3 in /usr/local/lib/python3.7/dist-packages (from pandas>=0.24.0->yfinance) (2022.1)\n",
            "Requirement already satisfied: six>=1.5 in /usr/local/lib/python3.7/dist-packages (from python-dateutil>=2.7.3->pandas>=0.24.0->yfinance) (1.15.0)\n",
            "Requirement already satisfied: idna<4,>=2.5 in /usr/local/lib/python3.7/dist-packages (from requests>=2.26->yfinance) (2.10)\n",
            "Requirement already satisfied: urllib3<1.27,>=1.21.1 in /usr/local/lib/python3.7/dist-packages (from requests>=2.26->yfinance) (1.24.3)\n",
            "Requirement already satisfied: certifi>=2017.4.17 in /usr/local/lib/python3.7/dist-packages (from requests>=2.26->yfinance) (2022.6.15)\n",
            "Requirement already satisfied: charset-normalizer~=2.0.0 in /usr/local/lib/python3.7/dist-packages (from requests>=2.26->yfinance) (2.0.12)\n",
            "Installing collected packages: requests, lxml, yfinance\n",
            "  Attempting uninstall: requests\n",
            "    Found existing installation: requests 2.23.0\n",
            "    Uninstalling requests-2.23.0:\n",
            "      Successfully uninstalled requests-2.23.0\n",
            "  Attempting uninstall: lxml\n",
            "    Found existing installation: lxml 4.2.6\n",
            "    Uninstalling lxml-4.2.6:\n",
            "      Successfully uninstalled lxml-4.2.6\n",
            "\u001b[31mERROR: pip's dependency resolver does not currently take into account all the packages that are installed. This behaviour is the source of the following dependency conflicts.\n",
            "google-colab 1.0.0 requires requests~=2.23.0, but you have requests 2.28.0 which is incompatible.\n",
            "datascience 0.10.6 requires folium==0.2.1, but you have folium 0.8.3 which is incompatible.\u001b[0m\n",
            "Successfully installed lxml-4.9.0 requests-2.28.0 yfinance-0.1.72\n"
          ]
        },
        {
          "output_type": "display_data",
          "data": {
            "application/vnd.colab-display-data+json": {
              "pip_warning": {
                "packages": [
                  "lxml",
                  "requests"
                ]
              }
            }
          },
          "metadata": {}
        }
      ]
    },
    {
      "cell_type": "code",
      "source": [
        "import yfinance as yf"
      ],
      "metadata": {
        "id": "Maaf_2JFqt-j"
      },
      "execution_count": null,
      "outputs": []
    },
    {
      "cell_type": "code",
      "source": [
        "#Populate portfolio with stocks \n",
        "print('enter stock ticker')\n",
        "print('press q to quit')\n",
        "stocks_list = set()\n",
        "weight = np.array([])\n",
        "companies = {}\n",
        "while True:                               #While Loop to get user's stock Tickers\n",
        "    stock = str.upper(input())\n",
        "    if str.upper(stock) == 'Q':\n",
        "        break\n",
        "    stocks_list.add(stock)             # store input in stocks_list \n",
        "\n",
        "for stock in stocks_list:                 # for loop to call yfinance api to get stock closing prices\n",
        "  prices = yf.Ticker(stock)\n",
        "  prices = prices.history(period ='5y')\n",
        "  companies[stock] = prices                     \n",
        "  companies[stock] = companies[stock]['Close']  # added a companies dictionary to get stock name and price\n",
        "\n",
        "portfolio = pd.concat(companies, axis = 1)  # concat all the stock prices into one data frame called portfolio\n",
        "portfolio"
      ],
      "metadata": {
        "colab": {
          "base_uri": "https://localhost:8080/",
          "height": 576
        },
        "id": "BQ6k73plrUaM",
        "outputId": "b84d5f9f-f14d-4ffe-d57c-b6361a087514"
      },
      "execution_count": null,
      "outputs": [
        {
          "name": "stdout",
          "output_type": "stream",
          "text": [
            "enter stock ticker\n",
            "press q to quit\n",
            "amzn\n",
            "googl\n",
            "aapl\n",
            "pfe\n",
            "q\n"
          ]
        },
        {
          "output_type": "execute_result",
          "data": {
            "text/plain": [
              "                  GOOGL        AMZN        AAPL        PFE\n",
              "Date                                                      \n",
              "2017-06-22   976.619995   50.064999   34.465744  26.870838\n",
              "2017-06-23   986.090027   50.187000   34.619583  26.957617\n",
              "2017-06-26   972.090027   49.699001   34.510704  26.855059\n",
              "2017-06-27   948.090027   48.839001   34.016068  26.642046\n",
              "2017-06-28   961.010010   49.516499   34.513081  26.626272\n",
              "...                 ...         ...         ...        ...\n",
              "2022-06-15  2195.290039  107.669998  135.429993  48.509998\n",
              "2022-06-16  2120.669922  103.660004  130.059998  47.480000\n",
              "2022-06-17  2142.870117  106.220001  131.559998  46.529999\n",
              "2022-06-21  2230.879883  108.680000  135.869995  48.110001\n",
              "2022-06-22  2258.429688  110.459999  136.600006  49.395000\n",
              "\n",
              "[1259 rows x 4 columns]"
            ],
            "text/html": [
              "\n",
              "  <div id=\"df-6b4abeda-fe63-4a35-9700-37d774c125ad\">\n",
              "    <div class=\"colab-df-container\">\n",
              "      <div>\n",
              "<style scoped>\n",
              "    .dataframe tbody tr th:only-of-type {\n",
              "        vertical-align: middle;\n",
              "    }\n",
              "\n",
              "    .dataframe tbody tr th {\n",
              "        vertical-align: top;\n",
              "    }\n",
              "\n",
              "    .dataframe thead th {\n",
              "        text-align: right;\n",
              "    }\n",
              "</style>\n",
              "<table border=\"1\" class=\"dataframe\">\n",
              "  <thead>\n",
              "    <tr style=\"text-align: right;\">\n",
              "      <th></th>\n",
              "      <th>GOOGL</th>\n",
              "      <th>AMZN</th>\n",
              "      <th>AAPL</th>\n",
              "      <th>PFE</th>\n",
              "    </tr>\n",
              "    <tr>\n",
              "      <th>Date</th>\n",
              "      <th></th>\n",
              "      <th></th>\n",
              "      <th></th>\n",
              "      <th></th>\n",
              "    </tr>\n",
              "  </thead>\n",
              "  <tbody>\n",
              "    <tr>\n",
              "      <th>2017-06-22</th>\n",
              "      <td>976.619995</td>\n",
              "      <td>50.064999</td>\n",
              "      <td>34.465744</td>\n",
              "      <td>26.870838</td>\n",
              "    </tr>\n",
              "    <tr>\n",
              "      <th>2017-06-23</th>\n",
              "      <td>986.090027</td>\n",
              "      <td>50.187000</td>\n",
              "      <td>34.619583</td>\n",
              "      <td>26.957617</td>\n",
              "    </tr>\n",
              "    <tr>\n",
              "      <th>2017-06-26</th>\n",
              "      <td>972.090027</td>\n",
              "      <td>49.699001</td>\n",
              "      <td>34.510704</td>\n",
              "      <td>26.855059</td>\n",
              "    </tr>\n",
              "    <tr>\n",
              "      <th>2017-06-27</th>\n",
              "      <td>948.090027</td>\n",
              "      <td>48.839001</td>\n",
              "      <td>34.016068</td>\n",
              "      <td>26.642046</td>\n",
              "    </tr>\n",
              "    <tr>\n",
              "      <th>2017-06-28</th>\n",
              "      <td>961.010010</td>\n",
              "      <td>49.516499</td>\n",
              "      <td>34.513081</td>\n",
              "      <td>26.626272</td>\n",
              "    </tr>\n",
              "    <tr>\n",
              "      <th>...</th>\n",
              "      <td>...</td>\n",
              "      <td>...</td>\n",
              "      <td>...</td>\n",
              "      <td>...</td>\n",
              "    </tr>\n",
              "    <tr>\n",
              "      <th>2022-06-15</th>\n",
              "      <td>2195.290039</td>\n",
              "      <td>107.669998</td>\n",
              "      <td>135.429993</td>\n",
              "      <td>48.509998</td>\n",
              "    </tr>\n",
              "    <tr>\n",
              "      <th>2022-06-16</th>\n",
              "      <td>2120.669922</td>\n",
              "      <td>103.660004</td>\n",
              "      <td>130.059998</td>\n",
              "      <td>47.480000</td>\n",
              "    </tr>\n",
              "    <tr>\n",
              "      <th>2022-06-17</th>\n",
              "      <td>2142.870117</td>\n",
              "      <td>106.220001</td>\n",
              "      <td>131.559998</td>\n",
              "      <td>46.529999</td>\n",
              "    </tr>\n",
              "    <tr>\n",
              "      <th>2022-06-21</th>\n",
              "      <td>2230.879883</td>\n",
              "      <td>108.680000</td>\n",
              "      <td>135.869995</td>\n",
              "      <td>48.110001</td>\n",
              "    </tr>\n",
              "    <tr>\n",
              "      <th>2022-06-22</th>\n",
              "      <td>2258.429688</td>\n",
              "      <td>110.459999</td>\n",
              "      <td>136.600006</td>\n",
              "      <td>49.395000</td>\n",
              "    </tr>\n",
              "  </tbody>\n",
              "</table>\n",
              "<p>1259 rows × 4 columns</p>\n",
              "</div>\n",
              "      <button class=\"colab-df-convert\" onclick=\"convertToInteractive('df-6b4abeda-fe63-4a35-9700-37d774c125ad')\"\n",
              "              title=\"Convert this dataframe to an interactive table.\"\n",
              "              style=\"display:none;\">\n",
              "        \n",
              "  <svg xmlns=\"http://www.w3.org/2000/svg\" height=\"24px\"viewBox=\"0 0 24 24\"\n",
              "       width=\"24px\">\n",
              "    <path d=\"M0 0h24v24H0V0z\" fill=\"none\"/>\n",
              "    <path d=\"M18.56 5.44l.94 2.06.94-2.06 2.06-.94-2.06-.94-.94-2.06-.94 2.06-2.06.94zm-11 1L8.5 8.5l.94-2.06 2.06-.94-2.06-.94L8.5 2.5l-.94 2.06-2.06.94zm10 10l.94 2.06.94-2.06 2.06-.94-2.06-.94-.94-2.06-.94 2.06-2.06.94z\"/><path d=\"M17.41 7.96l-1.37-1.37c-.4-.4-.92-.59-1.43-.59-.52 0-1.04.2-1.43.59L10.3 9.45l-7.72 7.72c-.78.78-.78 2.05 0 2.83L4 21.41c.39.39.9.59 1.41.59.51 0 1.02-.2 1.41-.59l7.78-7.78 2.81-2.81c.8-.78.8-2.07 0-2.86zM5.41 20L4 18.59l7.72-7.72 1.47 1.35L5.41 20z\"/>\n",
              "  </svg>\n",
              "      </button>\n",
              "      \n",
              "  <style>\n",
              "    .colab-df-container {\n",
              "      display:flex;\n",
              "      flex-wrap:wrap;\n",
              "      gap: 12px;\n",
              "    }\n",
              "\n",
              "    .colab-df-convert {\n",
              "      background-color: #E8F0FE;\n",
              "      border: none;\n",
              "      border-radius: 50%;\n",
              "      cursor: pointer;\n",
              "      display: none;\n",
              "      fill: #1967D2;\n",
              "      height: 32px;\n",
              "      padding: 0 0 0 0;\n",
              "      width: 32px;\n",
              "    }\n",
              "\n",
              "    .colab-df-convert:hover {\n",
              "      background-color: #E2EBFA;\n",
              "      box-shadow: 0px 1px 2px rgba(60, 64, 67, 0.3), 0px 1px 3px 1px rgba(60, 64, 67, 0.15);\n",
              "      fill: #174EA6;\n",
              "    }\n",
              "\n",
              "    [theme=dark] .colab-df-convert {\n",
              "      background-color: #3B4455;\n",
              "      fill: #D2E3FC;\n",
              "    }\n",
              "\n",
              "    [theme=dark] .colab-df-convert:hover {\n",
              "      background-color: #434B5C;\n",
              "      box-shadow: 0px 1px 3px 1px rgba(0, 0, 0, 0.15);\n",
              "      filter: drop-shadow(0px 1px 2px rgba(0, 0, 0, 0.3));\n",
              "      fill: #FFFFFF;\n",
              "    }\n",
              "  </style>\n",
              "\n",
              "      <script>\n",
              "        const buttonEl =\n",
              "          document.querySelector('#df-6b4abeda-fe63-4a35-9700-37d774c125ad button.colab-df-convert');\n",
              "        buttonEl.style.display =\n",
              "          google.colab.kernel.accessAllowed ? 'block' : 'none';\n",
              "\n",
              "        async function convertToInteractive(key) {\n",
              "          const element = document.querySelector('#df-6b4abeda-fe63-4a35-9700-37d774c125ad');\n",
              "          const dataTable =\n",
              "            await google.colab.kernel.invokeFunction('convertToInteractive',\n",
              "                                                     [key], {});\n",
              "          if (!dataTable) return;\n",
              "\n",
              "          const docLinkHtml = 'Like what you see? Visit the ' +\n",
              "            '<a target=\"_blank\" href=https://colab.research.google.com/notebooks/data_table.ipynb>data table notebook</a>'\n",
              "            + ' to learn more about interactive tables.';\n",
              "          element.innerHTML = '';\n",
              "          dataTable['output_type'] = 'display_data';\n",
              "          await google.colab.output.renderOutput(dataTable, element);\n",
              "          const docLink = document.createElement('div');\n",
              "          docLink.innerHTML = docLinkHtml;\n",
              "          element.appendChild(docLink);\n",
              "        }\n",
              "      </script>\n",
              "    </div>\n",
              "  </div>\n",
              "  "
            ]
          },
          "metadata": {},
          "execution_count": 6
        }
      ]
    },
    {
      "cell_type": "code",
      "source": [
        "# Get user input for portfolio weights\n",
        "initial_weight = {} \n",
        "keys = portfolio.shape[1]\n",
        "weight_list = []\n",
        "x = list(stocks_list)\n",
        "\n",
        "for i in range(keys):\n",
        "    print('For stock:',x[i]) \n",
        "    weight = float(input('enter 0.XXXX format portfolio weights:'))\n",
        "    if i <= keys:\n",
        "      weight_list.append(weight)\n",
        "      k = x[i]\n",
        "      initial_weight[k] = weight_list[i]\n",
        "    else:\n",
        "      break "
      ],
      "metadata": {
        "colab": {
          "base_uri": "https://localhost:8080/"
        },
        "id": "T87m8E7nshbk",
        "outputId": "63b78240-36d1-4c50-e48d-07241309d29e"
      },
      "execution_count": null,
      "outputs": [
        {
          "name": "stdout",
          "output_type": "stream",
          "text": [
            "For stock: GOOGL\n",
            "enter 0.XXXX format portfolio weights:0.25\n",
            "For stock: AMZN\n",
            "enter 0.XXXX format portfolio weights:0.25\n",
            "For stock: AAPL\n",
            "enter 0.XXXX format portfolio weights:0.25\n",
            "For stock: PFE\n",
            "enter 0.XXXX format portfolio weights:0.25\n"
          ]
        }
      ]
    },
    {
      "cell_type": "code",
      "source": [
        "initial_weight"
      ],
      "metadata": {
        "colab": {
          "base_uri": "https://localhost:8080/"
        },
        "id": "x5NIQ_tz5mdm",
        "outputId": "93d1981b-b105-4801-dde5-8bda934740ea"
      },
      "execution_count": null,
      "outputs": [
        {
          "output_type": "execute_result",
          "data": {
            "text/plain": [
              "{'AAPL': 0.25, 'AMZN': 0.25, 'GOOGL': 0.25, 'PFE': 0.25}"
            ]
          },
          "metadata": {},
          "execution_count": 8
        }
      ]
    },
    {
      "cell_type": "code",
      "source": [
        "import matplotlib.pyplot as plt\n",
        "\n",
        "labels = list(initial_weight.keys())\n",
        "values = list(initial_weight.values())\n",
        "\n",
        "plt.pie(values,labels = labels, autopct='%1.2f%%')\n",
        "plt.show()"
      ],
      "metadata": {
        "colab": {
          "base_uri": "https://localhost:8080/",
          "height": 248
        },
        "id": "5komRPfuuETs",
        "outputId": "86dff414-81f2-41f9-d8c7-a796811c638f"
      },
      "execution_count": null,
      "outputs": [
        {
          "output_type": "display_data",
          "data": {
            "text/plain": [
              "<Figure size 432x288 with 1 Axes>"
            ],
            "image/png": "[encoded data removed]"
          },
          "metadata": {}
        }
      ]
    },
    {
      "cell_type": "code",
      "source": [
        "portfolio"
      ],
      "metadata": {
        "colab": {
          "base_uri": "https://localhost:8080/",
          "height": 455
        },
        "id": "FK8KojW3ttBc",
        "outputId": "29a92674-e3ab-4a44-846f-013b216597c5"
      },
      "execution_count": null,
      "outputs": [
        {
          "output_type": "execute_result",
          "data": {
            "text/plain": [
              "                  GOOGL        AMZN        AAPL        PFE\n",
              "Date                                                      \n",
              "2017-06-22   976.619995   50.064999   34.465744  26.870838\n",
              "2017-06-23   986.090027   50.187000   34.619583  26.957617\n",
              "2017-06-26   972.090027   49.699001   34.510704  26.855059\n",
              "2017-06-27   948.090027   48.839001   34.016068  26.642046\n",
              "2017-06-28   961.010010   49.516499   34.513081  26.626272\n",
              "...                 ...         ...         ...        ...\n",
              "2022-06-15  2195.290039  107.669998  135.429993  48.509998\n",
              "2022-06-16  2120.669922  103.660004  130.059998  47.480000\n",
              "2022-06-17  2142.870117  106.220001  131.559998  46.529999\n",
              "2022-06-21  2230.879883  108.680000  135.869995  48.110001\n",
              "2022-06-22  2258.429688  110.459999  136.600006  49.395000\n",
              "\n",
              "[1259 rows x 4 columns]"
            ],
            "text/html": [
              "\n",
              "  <div id=\"df-173d14b0-0056-4f6c-b7e8-b86b90d5de2d\">\n",
              "    <div class=\"colab-df-container\">\n",
              "      <div>\n",
              "<style scoped>\n",
              "    .dataframe tbody tr th:only-of-type {\n",
              "        vertical-align: middle;\n",
              "    }\n",
              "\n",
              "    .dataframe tbody tr th {\n",
              "        vertical-align: top;\n",
              "    }\n",
              "\n",
              "    .dataframe thead th {\n",
              "        text-align: right;\n",
              "    }\n",
              "</style>\n",
              "<table border=\"1\" class=\"dataframe\">\n",
              "  <thead>\n",
              "    <tr style=\"text-align: right;\">\n",
              "      <th></th>\n",
              "      <th>GOOGL</th>\n",
              "      <th>AMZN</th>\n",
              "      <th>AAPL</th>\n",
              "      <th>PFE</th>\n",
              "    </tr>\n",
              "    <tr>\n",
              "      <th>Date</th>\n",
              "      <th></th>\n",
              "      <th></th>\n",
              "      <th></th>\n",
              "      <th></th>\n",
              "    </tr>\n",
              "  </thead>\n",
              "  <tbody>\n",
              "    <tr>\n",
              "      <th>2017-06-22</th>\n",
              "      <td>976.619995</td>\n",
              "      <td>50.064999</td>\n",
              "      <td>34.465744</td>\n",
              "      <td>26.870838</td>\n",
              "    </tr>\n",
              "    <tr>\n",
              "      <th>2017-06-23</th>\n",
              "      <td>986.090027</td>\n",
              "      <td>50.187000</td>\n",
              "      <td>34.619583</td>\n",
              "      <td>26.957617</td>\n",
              "    </tr>\n",
              "    <tr>\n",
              "      <th>2017-06-26</th>\n",
              "      <td>972.090027</td>\n",
              "      <td>49.699001</td>\n",
              "      <td>34.510704</td>\n",
              "      <td>26.855059</td>\n",
              "    </tr>\n",
              "    <tr>\n",
              "      <th>2017-06-27</th>\n",
              "      <td>948.090027</td>\n",
              "      <td>48.839001</td>\n",
              "      <td>34.016068</td>\n",
              "      <td>26.642046</td>\n",
              "    </tr>\n",
              "    <tr>\n",
              "      <th>2017-06-28</th>\n",
              "      <td>961.010010</td>\n",
              "      <td>49.516499</td>\n",
              "      <td>34.513081</td>\n",
              "      <td>26.626272</td>\n",
              "    </tr>\n",
              "    <tr>\n",
              "      <th>...</th>\n",
              "      <td>...</td>\n",
              "      <td>...</td>\n",
              "      <td>...</td>\n",
              "      <td>...</td>\n",
              "    </tr>\n",
              "    <tr>\n",
              "      <th>2022-06-15</th>\n",
              "      <td>2195.290039</td>\n",
              "      <td>107.669998</td>\n",
              "      <td>135.429993</td>\n",
              "      <td>48.509998</td>\n",
              "    </tr>\n",
              "    <tr>\n",
              "      <th>2022-06-16</th>\n",
              "      <td>2120.669922</td>\n",
              "      <td>103.660004</td>\n",
              "      <td>130.059998</td>\n",
              "      <td>47.480000</td>\n",
              "    </tr>\n",
              "    <tr>\n",
              "      <th>2022-06-17</th>\n",
              "      <td>2142.870117</td>\n",
              "      <td>106.220001</td>\n",
              "      <td>131.559998</td>\n",
              "      <td>46.529999</td>\n",
              "    </tr>\n",
              "    <tr>\n",
              "      <th>2022-06-21</th>\n",
              "      <td>2230.879883</td>\n",
              "      <td>108.680000</td>\n",
              "      <td>135.869995</td>\n",
              "      <td>48.110001</td>\n",
              "    </tr>\n",
              "    <tr>\n",
              "      <th>2022-06-22</th>\n",
              "      <td>2258.429688</td>\n",
              "      <td>110.459999</td>\n",
              "      <td>136.600006</td>\n",
              "      <td>49.395000</td>\n",
              "    </tr>\n",
              "  </tbody>\n",
              "</table>\n",
              "<p>1259 rows × 4 columns</p>\n",
              "</div>\n",
              "      <button class=\"colab-df-convert\" onclick=\"convertToInteractive('df-173d14b0-0056-4f6c-b7e8-b86b90d5de2d')\"\n",
              "              title=\"Convert this dataframe to an interactive table.\"\n",
              "              style=\"display:none;\">\n",
              "        \n",
              "  <svg xmlns=\"http://www.w3.org/2000/svg\" height=\"24px\"viewBox=\"0 0 24 24\"\n",
              "       width=\"24px\">\n",
              "    <path d=\"M0 0h24v24H0V0z\" fill=\"none\"/>\n",
              "    <path d=\"M18.56 5.44l.94 2.06.94-2.06 2.06-.94-2.06-.94-.94-2.06-.94 2.06-2.06.94zm-11 1L8.5 8.5l.94-2.06 2.06-.94-2.06-.94L8.5 2.5l-.94 2.06-2.06.94zm10 10l.94 2.06.94-2.06 2.06-.94-2.06-.94-.94-2.06-.94 2.06-2.06.94z\"/><path d=\"M17.41 7.96l-1.37-1.37c-.4-.4-.92-.59-1.43-.59-.52 0-1.04.2-1.43.59L10.3 9.45l-7.72 7.72c-.78.78-.78 2.05 0 2.83L4 21.41c.39.39.9.59 1.41.59.51 0 1.02-.2 1.41-.59l7.78-7.78 2.81-2.81c.8-.78.8-2.07 0-2.86zM5.41 20L4 18.59l7.72-7.72 1.47 1.35L5.41 20z\"/>\n",
              "  </svg>\n",
              "      </button>\n",
              "      \n",
              "  <style>\n",
              "    .colab-df-container {\n",
              "      display:flex;\n",
              "      flex-wrap:wrap;\n",
              "      gap: 12px;\n",
              "    }\n",
              "\n",
              "    .colab-df-convert {\n",
              "      background-color: #E8F0FE;\n",
              "      border: none;\n",
              "      border-radius: 50%;\n",
              "      cursor: pointer;\n",
              "      display: none;\n",
              "      fill: #1967D2;\n",
              "      height: 32px;\n",
              "      padding: 0 0 0 0;\n",
              "      width: 32px;\n",
              "    }\n",
              "\n",
              "    .colab-df-convert:hover {\n",
              "      background-color: #E2EBFA;\n",
              "      box-shadow: 0px 1px 2px rgba(60, 64, 67, 0.3), 0px 1px 3px 1px rgba(60, 64, 67, 0.15);\n",
              "      fill: #174EA6;\n",
              "    }\n",
              "\n",
              "    [theme=dark] .colab-df-convert {\n",
              "      background-color: #3B4455;\n",
              "      fill: #D2E3FC;\n",
              "    }\n",
              "\n",
              "    [theme=dark] .colab-df-convert:hover {\n",
              "      background-color: #434B5C;\n",
              "      box-shadow: 0px 1px 3px 1px rgba(0, 0, 0, 0.15);\n",
              "      filter: drop-shadow(0px 1px 2px rgba(0, 0, 0, 0.3));\n",
              "      fill: #FFFFFF;\n",
              "    }\n",
              "  </style>\n",
              "\n",
              "      <script>\n",
              "        const buttonEl =\n",
              "          document.querySelector('#df-173d14b0-0056-4f6c-b7e8-b86b90d5de2d button.colab-df-convert');\n",
              "        buttonEl.style.display =\n",
              "          google.colab.kernel.accessAllowed ? 'block' : 'none';\n",
              "\n",
              "        async function convertToInteractive(key) {\n",
              "          const element = document.querySelector('#df-173d14b0-0056-4f6c-b7e8-b86b90d5de2d');\n",
              "          const dataTable =\n",
              "            await google.colab.kernel.invokeFunction('convertToInteractive',\n",
              "                                                     [key], {});\n",
              "          if (!dataTable) return;\n",
              "\n",
              "          const docLinkHtml = 'Like what you see? Visit the ' +\n",
              "            '<a target=\"_blank\" href=https://colab.research.google.com/notebooks/data_table.ipynb>data table notebook</a>'\n",
              "            + ' to learn more about interactive tables.';\n",
              "          element.innerHTML = '';\n",
              "          dataTable['output_type'] = 'display_data';\n",
              "          await google.colab.output.renderOutput(dataTable, element);\n",
              "          const docLink = document.createElement('div');\n",
              "          docLink.innerHTML = docLinkHtml;\n",
              "          element.appendChild(docLink);\n",
              "        }\n",
              "      </script>\n",
              "    </div>\n",
              "  </div>\n",
              "  "
            ]
          },
          "metadata": {},
          "execution_count": 10
        }
      ]
    },
    {
      "cell_type": "code",
      "source": [
        "portfolio.describe()"
      ],
      "metadata": {
        "colab": {
          "base_uri": "https://localhost:8080/",
          "height": 300
        },
        "id": "q6mtWzRkvgCq",
        "outputId": "24593698-12d0-441b-9da5-3f9d344af587"
      },
      "execution_count": null,
      "outputs": [
        {
          "output_type": "execute_result",
          "data": {
            "text/plain": [
              "             GOOGL         AMZN         AAPL          PFE\n",
              "count  1259.000000  1259.000000  1259.000000  1259.000000\n",
              "mean   1600.068109   113.403181    85.318657    35.624329\n",
              "std     634.993668    40.949580    46.011111     7.295802\n",
              "min     919.460022    46.930000    33.779411    24.853760\n",
              "25%    1113.474976    83.525002    44.614397    30.179562\n",
              "50%    1285.500000    96.320999    64.971397    34.032368\n",
              "75%    2091.930054   158.086998   128.051884    37.108797\n",
              "max    2996.770020   186.570496   181.511703    60.296108"
            ],
            "text/html": [
              "\n",
              "  <div id=\"df-a40862e3-0f5c-48f6-b862-0f0406e086ef\">\n",
              "    <div class=\"colab-df-container\">\n",
              "      <div>\n",
              "<style scoped>\n",
              "    .dataframe tbody tr th:only-of-type {\n",
              "        vertical-align: middle;\n",
              "    }\n",
              "\n",
              "    .dataframe tbody tr th {\n",
              "        vertical-align: top;\n",
              "    }\n",
              "\n",
              "    .dataframe thead th {\n",
              "        text-align: right;\n",
              "    }\n",
              "</style>\n",
              "<table border=\"1\" class=\"dataframe\">\n",
              "  <thead>\n",
              "    <tr style=\"text-align: right;\">\n",
              "      <th></th>\n",
              "      <th>GOOGL</th>\n",
              "      <th>AMZN</th>\n",
              "      <th>AAPL</th>\n",
              "      <th>PFE</th>\n",
              "    </tr>\n",
              "  </thead>\n",
              "  <tbody>\n",
              "    <tr>\n",
              "      <th>count</th>\n",
              "      <td>1259.000000</td>\n",
              "      <td>1259.000000</td>\n",
              "      <td>1259.000000</td>\n",
              "      <td>1259.000000</td>\n",
              "    </tr>\n",
              "    <tr>\n",
              "      <th>mean</th>\n",
              "      <td>1600.068109</td>\n",
              "      <td>113.403181</td>\n",
              "      <td>85.318657</td>\n",
              "      <td>35.624329</td>\n",
              "    </tr>\n",
              "    <tr>\n",
              "      <th>std</th>\n",
              "      <td>634.993668</td>\n",
              "      <td>40.949580</td>\n",
              "      <td>46.011111</td>\n",
              "      <td>7.295802</td>\n",
              "    </tr>\n",
              "    <tr>\n",
              "      <th>min</th>\n",
              "      <td>919.460022</td>\n",
              "      <td>46.930000</td>\n",
              "      <td>33.779411</td>\n",
              "      <td>24.853760</td>\n",
              "    </tr>\n",
              "    <tr>\n",
              "      <th>25%</th>\n",
              "      <td>1113.474976</td>\n",
              "      <td>83.525002</td>\n",
              "      <td>44.614397</td>\n",
              "      <td>30.179562</td>\n",
              "    </tr>\n",
              "    <tr>\n",
              "      <th>50%</th>\n",
              "      <td>1285.500000</td>\n",
              "      <td>96.320999</td>\n",
              "      <td>64.971397</td>\n",
              "      <td>34.032368</td>\n",
              "    </tr>\n",
              "    <tr>\n",
              "      <th>75%</th>\n",
              "      <td>2091.930054</td>\n",
              "      <td>158.086998</td>\n",
              "      <td>128.051884</td>\n",
              "      <td>37.108797</td>\n",
              "    </tr>\n",
              "    <tr>\n",
              "      <th>max</th>\n",
              "      <td>2996.770020</td>\n",
              "      <td>186.570496</td>\n",
              "      <td>181.511703</td>\n",
              "      <td>60.296108</td>\n",
              "    </tr>\n",
              "  </tbody>\n",
              "</table>\n",
              "</div>\n",
              "      <button class=\"colab-df-convert\" onclick=\"convertToInteractive('df-a40862e3-0f5c-48f6-b862-0f0406e086ef')\"\n",
              "              title=\"Convert this dataframe to an interactive table.\"\n",
              "              style=\"display:none;\">\n",
              "        \n",
              "  <svg xmlns=\"http://www.w3.org/2000/svg\" height=\"24px\"viewBox=\"0 0 24 24\"\n",
              "       width=\"24px\">\n",
              "    <path d=\"M0 0h24v24H0V0z\" fill=\"none\"/>\n",
              "    <path d=\"M18.56 5.44l.94 2.06.94-2.06 2.06-.94-2.06-.94-.94-2.06-.94 2.06-2.06.94zm-11 1L8.5 8.5l.94-2.06 2.06-.94-2.06-.94L8.5 2.5l-.94 2.06-2.06.94zm10 10l.94 2.06.94-2.06 2.06-.94-2.06-.94-.94-2.06-.94 2.06-2.06.94z\"/><path d=\"M17.41 7.96l-1.37-1.37c-.4-.4-.92-.59-1.43-.59-.52 0-1.04.2-1.43.59L10.3 9.45l-7.72 7.72c-.78.78-.78 2.05 0 2.83L4 21.41c.39.39.9.59 1.41.59.51 0 1.02-.2 1.41-.59l7.78-7.78 2.81-2.81c.8-.78.8-2.07 0-2.86zM5.41 20L4 18.59l7.72-7.72 1.47 1.35L5.41 20z\"/>\n",
              "  </svg>\n",
              "      </button>\n",
              "      \n",
              "  <style>\n",
              "    .colab-df-container {\n",
              "      display:flex;\n",
              "      flex-wrap:wrap;\n",
              "      gap: 12px;\n",
              "    }\n",
              "\n",
              "    .colab-df-convert {\n",
              "      background-color: #E8F0FE;\n",
              "      border: none;\n",
              "      border-radius: 50%;\n",
              "      cursor: pointer;\n",
              "      display: none;\n",
              "      fill: #1967D2;\n",
              "      height: 32px;\n",
              "      padding: 0 0 0 0;\n",
              "      width: 32px;\n",
              "    }\n",
              "\n",
              "    .colab-df-convert:hover {\n",
              "      background-color: #E2EBFA;\n",
              "      box-shadow: 0px 1px 2px rgba(60, 64, 67, 0.3), 0px 1px 3px 1px rgba(60, 64, 67, 0.15);\n",
              "      fill: #174EA6;\n",
              "    }\n",
              "\n",
              "    [theme=dark] .colab-df-convert {\n",
              "      background-color: #3B4455;\n",
              "      fill: #D2E3FC;\n",
              "    }\n",
              "\n",
              "    [theme=dark] .colab-df-convert:hover {\n",
              "      background-color: #434B5C;\n",
              "      box-shadow: 0px 1px 3px 1px rgba(0, 0, 0, 0.15);\n",
              "      filter: drop-shadow(0px 1px 2px rgba(0, 0, 0, 0.3));\n",
              "      fill: #FFFFFF;\n",
              "    }\n",
              "  </style>\n",
              "\n",
              "      <script>\n",
              "        const buttonEl =\n",
              "          document.querySelector('#df-a40862e3-0f5c-48f6-b862-0f0406e086ef button.colab-df-convert');\n",
              "        buttonEl.style.display =\n",
              "          google.colab.kernel.accessAllowed ? 'block' : 'none';\n",
              "\n",
              "        async function convertToInteractive(key) {\n",
              "          const element = document.querySelector('#df-a40862e3-0f5c-48f6-b862-0f0406e086ef');\n",
              "          const dataTable =\n",
              "            await google.colab.kernel.invokeFunction('convertToInteractive',\n",
              "                                                     [key], {});\n",
              "          if (!dataTable) return;\n",
              "\n",
              "          const docLinkHtml = 'Like what you see? Visit the ' +\n",
              "            '<a target=\"_blank\" href=https://colab.research.google.com/notebooks/data_table.ipynb>data table notebook</a>'\n",
              "            + ' to learn more about interactive tables.';\n",
              "          element.innerHTML = '';\n",
              "          dataTable['output_type'] = 'display_data';\n",
              "          await google.colab.output.renderOutput(dataTable, element);\n",
              "          const docLink = document.createElement('div');\n",
              "          docLink.innerHTML = docLinkHtml;\n",
              "          element.appendChild(docLink);\n",
              "        }\n",
              "      </script>\n",
              "    </div>\n",
              "  </div>\n",
              "  "
            ]
          },
          "metadata": {},
          "execution_count": 11
        }
      ]
    },
    {
      "cell_type": "markdown",
      "source": [
        "**COVARIANCE MATRIX**"
      ],
      "metadata": {
        "id": "UVx9Ad4UDY3b"
      }
    },
    {
      "cell_type": "code",
      "source": [
        "# Calculate log returns\n",
        "log_returns = np.log(portfolio).diff().dropna()\n",
        "log_returns"
      ],
      "metadata": {
        "colab": {
          "base_uri": "https://localhost:8080/",
          "height": 455
        },
        "id": "wgNndh-8Cc0W",
        "outputId": "48e8eb33-c5cd-4930-c74c-13fca71b99b2"
      },
      "execution_count": null,
      "outputs": [
        {
          "output_type": "execute_result",
          "data": {
            "text/plain": [
              "               GOOGL      AMZN      AAPL       PFE\n",
              "Date                                              \n",
              "2017-06-23  0.009650  0.002434  0.004454  0.003224\n",
              "2017-06-26 -0.014299 -0.009771 -0.003150 -0.003812\n",
              "2017-06-27 -0.024999 -0.017456 -0.014437 -0.007964\n",
              "2017-06-28  0.013535  0.013777  0.014505 -0.000592\n",
              "2017-06-29 -0.024427 -0.014647 -0.014853 -0.003562\n",
              "...              ...       ...       ...       ...\n",
              "2022-06-15  0.028171  0.051064  0.019912  0.012237\n",
              "2022-06-16 -0.034582 -0.037955 -0.040459 -0.021461\n",
              "2022-06-17  0.010414  0.024396  0.011467 -0.020211\n",
              "2022-06-21  0.040250  0.022895  0.032236  0.033393\n",
              "2022-06-22  0.012274  0.016246  0.005358  0.026359\n",
              "\n",
              "[1258 rows x 4 columns]"
            ],
            "text/html": [
              "\n",
              "  <div id=\"df-81c4f9c0-d8a3-47a2-a4ef-16d9ddb41df6\">\n",
              "    <div class=\"colab-df-container\">\n",
              "      <div>\n",
              "<style scoped>\n",
              "    .dataframe tbody tr th:only-of-type {\n",
              "        vertical-align: middle;\n",
              "    }\n",
              "\n",
              "    .dataframe tbody tr th {\n",
              "        vertical-align: top;\n",
              "    }\n",
              "\n",
              "    .dataframe thead th {\n",
              "        text-align: right;\n",
              "    }\n",
              "</style>\n",
              "<table border=\"1\" class=\"dataframe\">\n",
              "  <thead>\n",
              "    <tr style=\"text-align: right;\">\n",
              "      <th></th>\n",
              "      <th>GOOGL</th>\n",
              "      <th>AMZN</th>\n",
              "      <th>AAPL</th>\n",
              "      <th>PFE</th>\n",
              "    </tr>\n",
              "    <tr>\n",
              "      <th>Date</th>\n",
              "      <th></th>\n",
              "      <th></th>\n",
              "      <th></th>\n",
              "      <th></th>\n",
              "    </tr>\n",
              "  </thead>\n",
              "  <tbody>\n",
              "    <tr>\n",
              "      <th>2017-06-23</th>\n",
              "      <td>0.009650</td>\n",
              "      <td>0.002434</td>\n",
              "      <td>0.004454</td>\n",
              "      <td>0.003224</td>\n",
              "    </tr>\n",
              "    <tr>\n",
              "      <th>2017-06-26</th>\n",
              "      <td>-0.014299</td>\n",
              "      <td>-0.009771</td>\n",
              "      <td>-0.003150</td>\n",
              "      <td>-0.003812</td>\n",
              "    </tr>\n",
              "    <tr>\n",
              "      <th>2017-06-27</th>\n",
              "      <td>-0.024999</td>\n",
              "      <td>-0.017456</td>\n",
              "      <td>-0.014437</td>\n",
              "      <td>-0.007964</td>\n",
              "    </tr>\n",
              "    <tr>\n",
              "      <th>2017-06-28</th>\n",
              "      <td>0.013535</td>\n",
              "      <td>0.013777</td>\n",
              "      <td>0.014505</td>\n",
              "      <td>-0.000592</td>\n",
              "    </tr>\n",
              "    <tr>\n",
              "      <th>2017-06-29</th>\n",
              "      <td>-0.024427</td>\n",
              "      <td>-0.014647</td>\n",
              "      <td>-0.014853</td>\n",
              "      <td>-0.003562</td>\n",
              "    </tr>\n",
              "    <tr>\n",
              "      <th>...</th>\n",
              "      <td>...</td>\n",
              "      <td>...</td>\n",
              "      <td>...</td>\n",
              "      <td>...</td>\n",
              "    </tr>\n",
              "    <tr>\n",
              "      <th>2022-06-15</th>\n",
              "      <td>0.028171</td>\n",
              "      <td>0.051064</td>\n",
              "      <td>0.019912</td>\n",
              "      <td>0.012237</td>\n",
              "    </tr>\n",
              "    <tr>\n",
              "      <th>2022-06-16</th>\n",
              "      <td>-0.034582</td>\n",
              "      <td>-0.037955</td>\n",
              "      <td>-0.040459</td>\n",
              "      <td>-0.021461</td>\n",
              "    </tr>\n",
              "    <tr>\n",
              "      <th>2022-06-17</th>\n",
              "      <td>0.010414</td>\n",
              "      <td>0.024396</td>\n",
              "      <td>0.011467</td>\n",
              "      <td>-0.020211</td>\n",
              "    </tr>\n",
              "    <tr>\n",
              "      <th>2022-06-21</th>\n",
              "      <td>0.040250</td>\n",
              "      <td>0.022895</td>\n",
              "      <td>0.032236</td>\n",
              "      <td>0.033393</td>\n",
              "    </tr>\n",
              "    <tr>\n",
              "      <th>2022-06-22</th>\n",
              "      <td>0.012274</td>\n",
              "      <td>0.016246</td>\n",
              "      <td>0.005358</td>\n",
              "      <td>0.026359</td>\n",
              "    </tr>\n",
              "  </tbody>\n",
              "</table>\n",
              "<p>1258 rows × 4 columns</p>\n",
              "</div>\n",
              "      <button class=\"colab-df-convert\" onclick=\"convertToInteractive('df-81c4f9c0-d8a3-47a2-a4ef-16d9ddb41df6')\"\n",
              "              title=\"Convert this dataframe to an interactive table.\"\n",
              "              style=\"display:none;\">\n",
              "        \n",
              "  <svg xmlns=\"http://www.w3.org/2000/svg\" height=\"24px\"viewBox=\"0 0 24 24\"\n",
              "       width=\"24px\">\n",
              "    <path d=\"M0 0h24v24H0V0z\" fill=\"none\"/>\n",
              "    <path d=\"M18.56 5.44l.94 2.06.94-2.06 2.06-.94-2.06-.94-.94-2.06-.94 2.06-2.06.94zm-11 1L8.5 8.5l.94-2.06 2.06-.94-2.06-.94L8.5 2.5l-.94 2.06-2.06.94zm10 10l.94 2.06.94-2.06 2.06-.94-2.06-.94-.94-2.06-.94 2.06-2.06.94z\"/><path d=\"M17.41 7.96l-1.37-1.37c-.4-.4-.92-.59-1.43-.59-.52 0-1.04.2-1.43.59L10.3 9.45l-7.72 7.72c-.78.78-.78 2.05 0 2.83L4 21.41c.39.39.9.59 1.41.59.51 0 1.02-.2 1.41-.59l7.78-7.78 2.81-2.81c.8-.78.8-2.07 0-2.86zM5.41 20L4 18.59l7.72-7.72 1.47 1.35L5.41 20z\"/>\n",
              "  </svg>\n",
              "      </button>\n",
              "      \n",
              "  <style>\n",
              "    .colab-df-container {\n",
              "      display:flex;\n",
              "      flex-wrap:wrap;\n",
              "      gap: 12px;\n",
              "    }\n",
              "\n",
              "    .colab-df-convert {\n",
              "      background-color: #E8F0FE;\n",
              "      border: none;\n",
              "      border-radius: 50%;\n",
              "      cursor: pointer;\n",
              "      display: none;\n",
              "      fill: #1967D2;\n",
              "      height: 32px;\n",
              "      padding: 0 0 0 0;\n",
              "      width: 32px;\n",
              "    }\n",
              "\n",
              "    .colab-df-convert:hover {\n",
              "      background-color: #E2EBFA;\n",
              "      box-shadow: 0px 1px 2px rgba(60, 64, 67, 0.3), 0px 1px 3px 1px rgba(60, 64, 67, 0.15);\n",
              "      fill: #174EA6;\n",
              "    }\n",
              "\n",
              "    [theme=dark] .colab-df-convert {\n",
              "      background-color: #3B4455;\n",
              "      fill: #D2E3FC;\n",
              "    }\n",
              "\n",
              "    [theme=dark] .colab-df-convert:hover {\n",
              "      background-color: #434B5C;\n",
              "      box-shadow: 0px 1px 3px 1px rgba(0, 0, 0, 0.15);\n",
              "      filter: drop-shadow(0px 1px 2px rgba(0, 0, 0, 0.3));\n",
              "      fill: #FFFFFF;\n",
              "    }\n",
              "  </style>\n",
              "\n",
              "      <script>\n",
              "        const buttonEl =\n",
              "          document.querySelector('#df-81c4f9c0-d8a3-47a2-a4ef-16d9ddb41df6 button.colab-df-convert');\n",
              "        buttonEl.style.display =\n",
              "          google.colab.kernel.accessAllowed ? 'block' : 'none';\n",
              "\n",
              "        async function convertToInteractive(key) {\n",
              "          const element = document.querySelector('#df-81c4f9c0-d8a3-47a2-a4ef-16d9ddb41df6');\n",
              "          const dataTable =\n",
              "            await google.colab.kernel.invokeFunction('convertToInteractive',\n",
              "                                                     [key], {});\n",
              "          if (!dataTable) return;\n",
              "\n",
              "          const docLinkHtml = 'Like what you see? Visit the ' +\n",
              "            '<a target=\"_blank\" href=https://colab.research.google.com/notebooks/data_table.ipynb>data table notebook</a>'\n",
              "            + ' to learn more about interactive tables.';\n",
              "          element.innerHTML = '';\n",
              "          dataTable['output_type'] = 'display_data';\n",
              "          await google.colab.output.renderOutput(dataTable, element);\n",
              "          const docLink = document.createElement('div');\n",
              "          docLink.innerHTML = docLinkHtml;\n",
              "          element.appendChild(docLink);\n",
              "        }\n",
              "      </script>\n",
              "    </div>\n",
              "  </div>\n",
              "  "
            ]
          },
          "metadata": {},
          "execution_count": 12
        }
      ]
    },
    {
      "cell_type": "code",
      "source": [
        "# Calculate covariance matrix\n",
        "cov_matrix = log_returns.cov()\n",
        "cov_matrix"
      ],
      "metadata": {
        "colab": {
          "base_uri": "https://localhost:8080/",
          "height": 175
        },
        "id": "n8rEj7OtDPMj",
        "outputId": "a35b209b-5dda-4a44-c93b-6e26dd5757f0"
      },
      "execution_count": null,
      "outputs": [
        {
          "output_type": "execute_result",
          "data": {
            "text/plain": [
              "          GOOGL      AMZN      AAPL       PFE\n",
              "GOOGL  0.000338  0.000260  0.000255  0.000101\n",
              "AMZN   0.000260  0.000442  0.000272  0.000079\n",
              "AAPL   0.000255  0.000272  0.000407  0.000108\n",
              "PFE    0.000101  0.000079  0.000108  0.000253"
            ],
            "text/html": [
              "\n",
              "  <div id=\"df-d2910b7f-8a82-4617-b97a-a5366b21c837\">\n",
              "    <div class=\"colab-df-container\">\n",
              "      <div>\n",
              "<style scoped>\n",
              "    .dataframe tbody tr th:only-of-type {\n",
              "        vertical-align: middle;\n",
              "    }\n",
              "\n",
              "    .dataframe tbody tr th {\n",
              "        vertical-align: top;\n",
              "    }\n",
              "\n",
              "    .dataframe thead th {\n",
              "        text-align: right;\n",
              "    }\n",
              "</style>\n",
              "<table border=\"1\" class=\"dataframe\">\n",
              "  <thead>\n",
              "    <tr style=\"text-align: right;\">\n",
              "      <th></th>\n",
              "      <th>GOOGL</th>\n",
              "      <th>AMZN</th>\n",
              "      <th>AAPL</th>\n",
              "      <th>PFE</th>\n",
              "    </tr>\n",
              "  </thead>\n",
              "  <tbody>\n",
              "    <tr>\n",
              "      <th>GOOGL</th>\n",
              "      <td>0.000338</td>\n",
              "      <td>0.000260</td>\n",
              "      <td>0.000255</td>\n",
              "      <td>0.000101</td>\n",
              "    </tr>\n",
              "    <tr>\n",
              "      <th>AMZN</th>\n",
              "      <td>0.000260</td>\n",
              "      <td>0.000442</td>\n",
              "      <td>0.000272</td>\n",
              "      <td>0.000079</td>\n",
              "    </tr>\n",
              "    <tr>\n",
              "      <th>AAPL</th>\n",
              "      <td>0.000255</td>\n",
              "      <td>0.000272</td>\n",
              "      <td>0.000407</td>\n",
              "      <td>0.000108</td>\n",
              "    </tr>\n",
              "    <tr>\n",
              "      <th>PFE</th>\n",
              "      <td>0.000101</td>\n",
              "      <td>0.000079</td>\n",
              "      <td>0.000108</td>\n",
              "      <td>0.000253</td>\n",
              "    </tr>\n",
              "  </tbody>\n",
              "</table>\n",
              "</div>\n",
              "      <button class=\"colab-df-convert\" onclick=\"convertToInteractive('df-d2910b7f-8a82-4617-b97a-a5366b21c837')\"\n",
              "              title=\"Convert this dataframe to an interactive table.\"\n",
              "              style=\"display:none;\">\n",
              "        \n",
              "  <svg xmlns=\"http://www.w3.org/2000/svg\" height=\"24px\"viewBox=\"0 0 24 24\"\n",
              "       width=\"24px\">\n",
              "    <path d=\"M0 0h24v24H0V0z\" fill=\"none\"/>\n",
              "    <path d=\"M18.56 5.44l.94 2.06.94-2.06 2.06-.94-2.06-.94-.94-2.06-.94 2.06-2.06.94zm-11 1L8.5 8.5l.94-2.06 2.06-.94-2.06-.94L8.5 2.5l-.94 2.06-2.06.94zm10 10l.94 2.06.94-2.06 2.06-.94-2.06-.94-.94-2.06-.94 2.06-2.06.94z\"/><path d=\"M17.41 7.96l-1.37-1.37c-.4-.4-.92-.59-1.43-.59-.52 0-1.04.2-1.43.59L10.3 9.45l-7.72 7.72c-.78.78-.78 2.05 0 2.83L4 21.41c.39.39.9.59 1.41.59.51 0 1.02-.2 1.41-.59l7.78-7.78 2.81-2.81c.8-.78.8-2.07 0-2.86zM5.41 20L4 18.59l7.72-7.72 1.47 1.35L5.41 20z\"/>\n",
              "  </svg>\n",
              "      </button>\n",
              "      \n",
              "  <style>\n",
              "    .colab-df-container {\n",
              "      display:flex;\n",
              "      flex-wrap:wrap;\n",
              "      gap: 12px;\n",
              "    }\n",
              "\n",
              "    .colab-df-convert {\n",
              "      background-color: #E8F0FE;\n",
              "      border: none;\n",
              "      border-radius: 50%;\n",
              "      cursor: pointer;\n",
              "      display: none;\n",
              "      fill: #1967D2;\n",
              "      height: 32px;\n",
              "      padding: 0 0 0 0;\n",
              "      width: 32px;\n",
              "    }\n",
              "\n",
              "    .colab-df-convert:hover {\n",
              "      background-color: #E2EBFA;\n",
              "      box-shadow: 0px 1px 2px rgba(60, 64, 67, 0.3), 0px 1px 3px 1px rgba(60, 64, 67, 0.15);\n",
              "      fill: #174EA6;\n",
              "    }\n",
              "\n",
              "    [theme=dark] .colab-df-convert {\n",
              "      background-color: #3B4455;\n",
              "      fill: #D2E3FC;\n",
              "    }\n",
              "\n",
              "    [theme=dark] .colab-df-convert:hover {\n",
              "      background-color: #434B5C;\n",
              "      box-shadow: 0px 1px 3px 1px rgba(0, 0, 0, 0.15);\n",
              "      filter: drop-shadow(0px 1px 2px rgba(0, 0, 0, 0.3));\n",
              "      fill: #FFFFFF;\n",
              "    }\n",
              "  </style>\n",
              "\n",
              "      <script>\n",
              "        const buttonEl =\n",
              "          document.querySelector('#df-d2910b7f-8a82-4617-b97a-a5366b21c837 button.colab-df-convert');\n",
              "        buttonEl.style.display =\n",
              "          google.colab.kernel.accessAllowed ? 'block' : 'none';\n",
              "\n",
              "        async function convertToInteractive(key) {\n",
              "          const element = document.querySelector('#df-d2910b7f-8a82-4617-b97a-a5366b21c837');\n",
              "          const dataTable =\n",
              "            await google.colab.kernel.invokeFunction('convertToInteractive',\n",
              "                                                     [key], {});\n",
              "          if (!dataTable) return;\n",
              "\n",
              "          const docLinkHtml = 'Like what you see? Visit the ' +\n",
              "            '<a target=\"_blank\" href=https://colab.research.google.com/notebooks/data_table.ipynb>data table notebook</a>'\n",
              "            + ' to learn more about interactive tables.';\n",
              "          element.innerHTML = '';\n",
              "          dataTable['output_type'] = 'display_data';\n",
              "          await google.colab.output.renderOutput(dataTable, element);\n",
              "          const docLink = document.createElement('div');\n",
              "          docLink.innerHTML = docLinkHtml;\n",
              "          element.appendChild(docLink);\n",
              "        }\n",
              "      </script>\n",
              "    </div>\n",
              "  </div>\n",
              "  "
            ]
          },
          "metadata": {},
          "execution_count": 13
        }
      ]
    },
    {
      "cell_type": "code",
      "source": [
        "avg_returns=log_returns.mean()\n",
        "avg_returns = pd.DataFrame(avg_returns)\n",
        "avg_returns.columns = ['average 5 year returns']"
      ],
      "metadata": {
        "id": "ga5GncN6Dst3"
      },
      "execution_count": null,
      "outputs": []
    },
    {
      "cell_type": "markdown",
      "source": [
        "# **ALPHA AND BETA**"
      ],
      "metadata": {
        "id": "hgHPcJznzQw7"
      }
    },
    {
      "cell_type": "code",
      "source": [
        "# alpha compares the returns to a benchmark index such as S&P 500\n",
        "# positive means outperformed, negative means underperform\n",
        "\n",
        "# beta measures volatility compared to benchmark index\n",
        "# the higher the beta the more volatile your stock"
      ],
      "metadata": {
        "id": "rG6GnLrc98Be"
      },
      "execution_count": null,
      "outputs": []
    },
    {
      "cell_type": "code",
      "source": [
        "# Import S&P500 index(^GSPC)\n",
        "m  = yf.Ticker('^GSPC')\n",
        "m = m.history(period ='5y') # Market index\n",
        "m = pd.DataFrame(m)\n",
        "portfolio_m = pd.merge(m['Close'],portfolio, how = 'outer', on = 'Date')\n",
        "portfolio_m.rename(columns = {'Close':'Index:^GSPC'}, inplace = True)\n",
        "portfolio_m_log = np.log(portfolio_m).diff().dropna()"
      ],
      "metadata": {
        "id": "1FZBtDoGXuZI"
      },
      "execution_count": null,
      "outputs": []
    },
    {
      "cell_type": "code",
      "source": [
        "portfolio_m_log"
      ],
      "metadata": {
        "colab": {
          "base_uri": "https://localhost:8080/",
          "height": 455
        },
        "id": "UWiKsdANxh1v",
        "outputId": "eb21f323-da59-43b0-9901-f64efdf60f1a"
      },
      "execution_count": null,
      "outputs": [
        {
          "output_type": "execute_result",
          "data": {
            "text/plain": [
              "            Index:^GSPC     GOOGL      AMZN      AAPL       PFE\n",
              "Date                                                           \n",
              "2017-06-23     0.001560  0.009650  0.002434  0.004454  0.003224\n",
              "2017-06-26     0.000316 -0.014299 -0.009771 -0.003150 -0.003812\n",
              "2017-06-27    -0.008106 -0.024999 -0.017456 -0.014437 -0.007964\n",
              "2017-06-28     0.008770  0.013535  0.013777  0.014505 -0.000592\n",
              "2017-06-29    -0.008637 -0.024427 -0.014647 -0.014853 -0.003562\n",
              "...                 ...       ...       ...       ...       ...\n",
              "2022-06-15     0.014487  0.028171  0.051064  0.019912  0.012237\n",
              "2022-06-16    -0.033052 -0.034582 -0.037955 -0.040459 -0.021461\n",
              "2022-06-17     0.002198  0.010414  0.024396  0.011467 -0.020211\n",
              "2022-06-21     0.024182  0.040250  0.022895  0.032236  0.033393\n",
              "2022-06-22     0.006642  0.012274  0.016246  0.005358  0.026359\n",
              "\n",
              "[1258 rows x 5 columns]"
            ],
            "text/html": [
              "\n",
              "  <div id=\"df-9b8fda80-d79a-4c44-9c22-6ecc7f7d9795\">\n",
              "    <div class=\"colab-df-container\">\n",
              "      <div>\n",
              "<style scoped>\n",
              "    .dataframe tbody tr th:only-of-type {\n",
              "        vertical-align: middle;\n",
              "    }\n",
              "\n",
              "    .dataframe tbody tr th {\n",
              "        vertical-align: top;\n",
              "    }\n",
              "\n",
              "    .dataframe thead th {\n",
              "        text-align: right;\n",
              "    }\n",
              "</style>\n",
              "<table border=\"1\" class=\"dataframe\">\n",
              "  <thead>\n",
              "    <tr style=\"text-align: right;\">\n",
              "      <th></th>\n",
              "      <th>Index:^GSPC</th>\n",
              "      <th>GOOGL</th>\n",
              "      <th>AMZN</th>\n",
              "      <th>AAPL</th>\n",
              "      <th>PFE</th>\n",
              "    </tr>\n",
              "    <tr>\n",
              "      <th>Date</th>\n",
              "      <th></th>\n",
              "      <th></th>\n",
              "      <th></th>\n",
              "      <th></th>\n",
              "      <th></th>\n",
              "    </tr>\n",
              "  </thead>\n",
              "  <tbody>\n",
              "    <tr>\n",
              "      <th>2017-06-23</th>\n",
              "      <td>0.001560</td>\n",
              "      <td>0.009650</td>\n",
              "      <td>0.002434</td>\n",
              "      <td>0.004454</td>\n",
              "      <td>0.003224</td>\n",
              "    </tr>\n",
              "    <tr>\n",
              "      <th>2017-06-26</th>\n",
              "      <td>0.000316</td>\n",
              "      <td>-0.014299</td>\n",
              "      <td>-0.009771</td>\n",
              "      <td>-0.003150</td>\n",
              "      <td>-0.003812</td>\n",
              "    </tr>\n",
              "    <tr>\n",
              "      <th>2017-06-27</th>\n",
              "      <td>-0.008106</td>\n",
              "      <td>-0.024999</td>\n",
              "      <td>-0.017456</td>\n",
              "      <td>-0.014437</td>\n",
              "      <td>-0.007964</td>\n",
              "    </tr>\n",
              "    <tr>\n",
              "      <th>2017-06-28</th>\n",
              "      <td>0.008770</td>\n",
              "      <td>0.013535</td>\n",
              "      <td>0.013777</td>\n",
              "      <td>0.014505</td>\n",
              "      <td>-0.000592</td>\n",
              "    </tr>\n",
              "    <tr>\n",
              "      <th>2017-06-29</th>\n",
              "      <td>-0.008637</td>\n",
              "      <td>-0.024427</td>\n",
              "      <td>-0.014647</td>\n",
              "      <td>-0.014853</td>\n",
              "      <td>-0.003562</td>\n",
              "    </tr>\n",
              "    <tr>\n",
              "      <th>...</th>\n",
              "      <td>...</td>\n",
              "      <td>...</td>\n",
              "      <td>...</td>\n",
              "      <td>...</td>\n",
              "      <td>...</td>\n",
              "    </tr>\n",
              "    <tr>\n",
              "      <th>2022-06-15</th>\n",
              "      <td>0.014487</td>\n",
              "      <td>0.028171</td>\n",
              "      <td>0.051064</td>\n",
              "      <td>0.019912</td>\n",
              "      <td>0.012237</td>\n",
              "    </tr>\n",
              "    <tr>\n",
              "      <th>2022-06-16</th>\n",
              "      <td>-0.033052</td>\n",
              "      <td>-0.034582</td>\n",
              "      <td>-0.037955</td>\n",
              "      <td>-0.040459</td>\n",
              "      <td>-0.021461</td>\n",
              "    </tr>\n",
              "    <tr>\n",
              "      <th>2022-06-17</th>\n",
              "      <td>0.002198</td>\n",
              "      <td>0.010414</td>\n",
              "      <td>0.024396</td>\n",
              "      <td>0.011467</td>\n",
              "      <td>-0.020211</td>\n",
              "    </tr>\n",
              "    <tr>\n",
              "      <th>2022-06-21</th>\n",
              "      <td>0.024182</td>\n",
              "      <td>0.040250</td>\n",
              "      <td>0.022895</td>\n",
              "      <td>0.032236</td>\n",
              "      <td>0.033393</td>\n",
              "    </tr>\n",
              "    <tr>\n",
              "      <th>2022-06-22</th>\n",
              "      <td>0.006642</td>\n",
              "      <td>0.012274</td>\n",
              "      <td>0.016246</td>\n",
              "      <td>0.005358</td>\n",
              "      <td>0.026359</td>\n",
              "    </tr>\n",
              "  </tbody>\n",
              "</table>\n",
              "<p>1258 rows × 5 columns</p>\n",
              "</div>\n",
              "      <button class=\"colab-df-convert\" onclick=\"convertToInteractive('df-9b8fda80-d79a-4c44-9c22-6ecc7f7d9795')\"\n",
              "              title=\"Convert this dataframe to an interactive table.\"\n",
              "              style=\"display:none;\">\n",
              "        \n",
              "  <svg xmlns=\"http://www.w3.org/2000/svg\" height=\"24px\"viewBox=\"0 0 24 24\"\n",
              "       width=\"24px\">\n",
              "    <path d=\"M0 0h24v24H0V0z\" fill=\"none\"/>\n",
              "    <path d=\"M18.56 5.44l.94 2.06.94-2.06 2.06-.94-2.06-.94-.94-2.06-.94 2.06-2.06.94zm-11 1L8.5 8.5l.94-2.06 2.06-.94-2.06-.94L8.5 2.5l-.94 2.06-2.06.94zm10 10l.94 2.06.94-2.06 2.06-.94-2.06-.94-.94-2.06-.94 2.06-2.06.94z\"/><path d=\"M17.41 7.96l-1.37-1.37c-.4-.4-.92-.59-1.43-.59-.52 0-1.04.2-1.43.59L10.3 9.45l-7.72 7.72c-.78.78-.78 2.05 0 2.83L4 21.41c.39.39.9.59 1.41.59.51 0 1.02-.2 1.41-.59l7.78-7.78 2.81-2.81c.8-.78.8-2.07 0-2.86zM5.41 20L4 18.59l7.72-7.72 1.47 1.35L5.41 20z\"/>\n",
              "  </svg>\n",
              "      </button>\n",
              "      \n",
              "  <style>\n",
              "    .colab-df-container {\n",
              "      display:flex;\n",
              "      flex-wrap:wrap;\n",
              "      gap: 12px;\n",
              "    }\n",
              "\n",
              "    .colab-df-convert {\n",
              "      background-color: #E8F0FE;\n",
              "      border: none;\n",
              "      border-radius: 50%;\n",
              "      cursor: pointer;\n",
              "      display: none;\n",
              "      fill: #1967D2;\n",
              "      height: 32px;\n",
              "      padding: 0 0 0 0;\n",
              "      width: 32px;\n",
              "    }\n",
              "\n",
              "    .colab-df-convert:hover {\n",
              "      background-color: #E2EBFA;\n",
              "      box-shadow: 0px 1px 2px rgba(60, 64, 67, 0.3), 0px 1px 3px 1px rgba(60, 64, 67, 0.15);\n",
              "      fill: #174EA6;\n",
              "    }\n",
              "\n",
              "    [theme=dark] .colab-df-convert {\n",
              "      background-color: #3B4455;\n",
              "      fill: #D2E3FC;\n",
              "    }\n",
              "\n",
              "    [theme=dark] .colab-df-convert:hover {\n",
              "      background-color: #434B5C;\n",
              "      box-shadow: 0px 1px 3px 1px rgba(0, 0, 0, 0.15);\n",
              "      filter: drop-shadow(0px 1px 2px rgba(0, 0, 0, 0.3));\n",
              "      fill: #FFFFFF;\n",
              "    }\n",
              "  </style>\n",
              "\n",
              "      <script>\n",
              "        const buttonEl =\n",
              "          document.querySelector('#df-9b8fda80-d79a-4c44-9c22-6ecc7f7d9795 button.colab-df-convert');\n",
              "        buttonEl.style.display =\n",
              "          google.colab.kernel.accessAllowed ? 'block' : 'none';\n",
              "\n",
              "        async function convertToInteractive(key) {\n",
              "          const element = document.querySelector('#df-9b8fda80-d79a-4c44-9c22-6ecc7f7d9795');\n",
              "          const dataTable =\n",
              "            await google.colab.kernel.invokeFunction('convertToInteractive',\n",
              "                                                     [key], {});\n",
              "          if (!dataTable) return;\n",
              "\n",
              "          const docLinkHtml = 'Like what you see? Visit the ' +\n",
              "            '<a target=\"_blank\" href=https://colab.research.google.com/notebooks/data_table.ipynb>data table notebook</a>'\n",
              "            + ' to learn more about interactive tables.';\n",
              "          element.innerHTML = '';\n",
              "          dataTable['output_type'] = 'display_data';\n",
              "          await google.colab.output.renderOutput(dataTable, element);\n",
              "          const docLink = document.createElement('div');\n",
              "          docLink.innerHTML = docLinkHtml;\n",
              "          element.appendChild(docLink);\n",
              "        }\n",
              "      </script>\n",
              "    </div>\n",
              "  </div>\n",
              "  "
            ]
          },
          "metadata": {},
          "execution_count": 17
        }
      ]
    },
    {
      "cell_type": "code",
      "source": [
        "#get mean returns\n",
        "portfolio_m_avg_return = portfolio_m_log.mean()\n",
        "pd.DataFrame(portfolio_m_avg_return)\n",
        "portfolio_m_avg_return.columns = ['Average Portfolio Returns']\n",
        "portfolio_m_avg_return"
      ],
      "metadata": {
        "id": "tMAc1-m7YEL1",
        "colab": {
          "base_uri": "https://localhost:8080/"
        },
        "outputId": "cbe1bcd8-5b2a-48d9-d415-341f6d0afa83"
      },
      "execution_count": null,
      "outputs": [
        {
          "output_type": "execute_result",
          "data": {
            "text/plain": [
              "Index:^GSPC    0.000352\n",
              "GOOGL          0.000666\n",
              "AMZN           0.000629\n",
              "AAPL           0.001095\n",
              "PFE            0.000484\n",
              "dtype: float64"
            ]
          },
          "metadata": {},
          "execution_count": 18
        }
      ]
    },
    {
      "cell_type": "code",
      "source": [
        "#CAPM beta coefficient\n",
        "import numpy as np\n",
        "def calc_beta(df):\n",
        "  np_array = df.values\n",
        "  m = np_array[:,0]\n",
        "  beta = [] \n",
        "  for ind, col in enumerate(df):\n",
        "    if ind > 0:\n",
        "      s = np_array[:,ind]\n",
        "      covariance = np.cov(s,m)\n",
        "      beta.append(covariance[0,1]/covariance[1,1])\n",
        "  return pd.Series(beta, portfolio.columns, name = 'Beta')"
      ],
      "metadata": {
        "id": "dnIUSMJkDaIh"
      },
      "execution_count": null,
      "outputs": []
    },
    {
      "cell_type": "code",
      "source": [
        "calc_beta(portfolio_m_log)"
      ],
      "metadata": {
        "colab": {
          "base_uri": "https://localhost:8080/"
        },
        "id": "sTGECpHxVb7i",
        "outputId": "633e65d0-72e1-4b50-ae82-2bcf698c70bb"
      },
      "execution_count": null,
      "outputs": [
        {
          "output_type": "execute_result",
          "data": {
            "text/plain": [
              "GOOGL    1.110036\n",
              "AMZN     1.037599\n",
              "AAPL     1.215918\n",
              "PFE      0.619168\n",
              "Name: Beta, dtype: float64"
            ]
          },
          "metadata": {},
          "execution_count": 20
        }
      ]
    },
    {
      "cell_type": "code",
      "source": [
        "# BETA USING LINEAR REGRESSION\n",
        "from scipy import stats\n",
        "\n",
        "portfolio_m = pd.merge(m['Close'],portfolio, how = 'outer', on = 'Date')\n",
        "portfolio_m.rename(columns = {'Close':'Index'}, inplace = True)\n",
        "\n",
        "def calc_reg_beta(df):\n",
        "  np_array = df.values\n",
        "  m = np_array[:,0]\n",
        "  beta = [] \n",
        "  for ind, col in enumerate(df):\n",
        "    if ind > 0:\n",
        "      s = np_array[:,ind]\n",
        "      beta.append(stats.linregress(m,s)[0]) # use linear regression to find beta\n",
        "  return pd.Series(beta, portfolio.columns, name = 'Beta')\n"
      ],
      "metadata": {
        "id": "4u9TbKPQ7vnh"
      },
      "execution_count": null,
      "outputs": []
    },
    {
      "cell_type": "code",
      "source": [
        "calc_reg_beta(portfolio_m_log)"
      ],
      "metadata": {
        "colab": {
          "base_uri": "https://localhost:8080/"
        },
        "id": "_NRT4yvc8-vy",
        "outputId": "c3e0e021-f068-42e8-daa1-15683518c5f9"
      },
      "execution_count": null,
      "outputs": [
        {
          "output_type": "execute_result",
          "data": {
            "text/plain": [
              "GOOGL    1.110036\n",
              "AMZN     1.037599\n",
              "AAPL     1.215918\n",
              "PFE      0.619168\n",
              "Name: Beta, dtype: float64"
            ]
          },
          "metadata": {},
          "execution_count": 22
        }
      ]
    },
    {
      "cell_type": "code",
      "source": [
        "def matrix_beta(df):\n",
        "  X = df.values[:,[0]]\n",
        "  X = np.concatenate([np.ones_like(X), X], axis=1)  # add column for intercept(values as 1's)\n",
        "  beta = np.linalg.pinv(X.T @ X) @ X.T @ df.values[:,1:] #apply matrix algebra for linear regression closed for solution\n",
        "  return pd.Series(beta[1], df.columns[1:], name='Beta')"
      ],
      "metadata": {
        "id": "KvwqUeo_9dbd"
      },
      "execution_count": null,
      "outputs": []
    },
    {
      "cell_type": "code",
      "source": [
        "matrix_beta(portfolio_m_log)"
      ],
      "metadata": {
        "colab": {
          "base_uri": "https://localhost:8080/"
        },
        "id": "4W77iyYc-ptk",
        "outputId": "81269173-9e69-43dd-910b-7c7d5fc25509"
      },
      "execution_count": null,
      "outputs": [
        {
          "output_type": "execute_result",
          "data": {
            "text/plain": [
              "GOOGL    1.110036\n",
              "AMZN     1.037599\n",
              "AAPL     1.215918\n",
              "PFE      0.619168\n",
              "Name: Beta, dtype: float64"
            ]
          },
          "metadata": {},
          "execution_count": 24
        }
      ]
    },
    {
      "cell_type": "code",
      "source": [
        "# Get first date of historical value\n",
        "# index/string slicing\n",
        "\n",
        "date = portfolio.index.values[0]  # get first date\n",
        "date = date.astype(str)\n",
        "date = date[:10]\n",
        "print(date)"
      ],
      "metadata": {
        "id": "dNB9mAtOdsVL",
        "colab": {
          "base_uri": "https://localhost:8080/"
        },
        "outputId": "a4a1eb2c-1ca6-4b96-985a-f2207c55e144"
      },
      "execution_count": null,
      "outputs": [
        {
          "output_type": "stream",
          "name": "stdout",
          "text": [
            "2017-06-22\n"
          ]
        }
      ]
    },
    {
      "cell_type": "code",
      "source": [
        "# import Risk Free Rate T-Bills 5 years\n",
        "\n",
        "from bs4 import BeautifulSoup\n",
        "import requests\n",
        "\n",
        "html = requests.get('https://home.treasury.gov/resource-center/data-chart-center/interest-rates/TextView?type=daily_treasury_bill_rates&field_tdr_date_value=2017')\n",
        "soup = BeautifulSoup(html.text, \"html.parser\")\n",
        "\n",
        "table = soup.find('table', class_ = 'views-table views-view-table cols-19' )\n",
        "\n",
        "for t in table.find_all('tbody'):\n",
        "  rows = t.find_all('tr')\n",
        "  for row in rows:\n",
        "    date = row.find_all('td',class_= \"views-field views-field-field-tdr-date\")\n",
        "    coupon = row.find_all('td',class_ = 'views-field views-field-field-br-round-b1-close-13wk-2')\n",
        "\n",
        "tbill = date + coupon"
      ],
      "metadata": {
        "id": "vuINWkBe-MU8"
      },
      "execution_count": null,
      "outputs": []
    },
    {
      "cell_type": "markdown",
      "source": [
        "**SCRAPE TREASURY BILL DATA**"
      ],
      "metadata": {
        "id": "8YAkpRpRvcgn"
      }
    },
    {
      "cell_type": "code",
      "source": [
        "import pandas as pd\n",
        "import requests\n",
        "from bs4 import BeautifulSoup as bs\n",
        "row_data = []\n",
        "year = 2017 \n",
        "while True:\n",
        "  url = 'https://home.treasury.gov/resource-center/data-chart-center/interest-rates/TextView?type=daily_treasury_bill_rates&field_tdr_date_value='+ str(year)\n",
        "  html = requests.get(url)\n",
        "  soup = bs(html.text,'html.parser')\n",
        "  table = soup.find('table', class_ = 'views-table views-view-table cols-19' )\n",
        "    \n",
        "  for row in table.find_all('tr'):\n",
        "    col = row.find_all('td')\n",
        "    col = [ele.text.strip() for ele in col]\n",
        "    row_data.append(col)\n",
        "  \n",
        "  url = 'https://home.treasury.gov/resource-center/data-chart-center/interest-rates/TextView?type=daily_treasury_bill_rates&field_tdr_date_value='\n",
        "  year = year + 1\n",
        "  year = str(year)\n",
        "  url = url + year\n",
        "  year = int(year)\n",
        "\n",
        "  if year == 2023:\n",
        "   break"
      ],
      "metadata": {
        "id": "zr-eCkDlx4Ir"
      },
      "execution_count": null,
      "outputs": []
    },
    {
      "cell_type": "code",
      "source": [
        "# change url to get each new year. # Implimented into the web scrape cell above\n",
        "# convert to string and revert to int for string addition, and adding respectively\n",
        "year = 2017\n",
        "for y in range(year):\n",
        "  url = 'https://home.treasury.gov/resource-center/data-chart-center/interest-rates/TextView?type=daily_treasury_bill_rates&field_tdr_date_value='\n",
        "  year = year + 1\n",
        "  year = str(year)\n",
        "  url = url + year\n",
        "  year = int(year)\n",
        "  if year == 2022:\n",
        "    break"
      ],
      "metadata": {
        "id": "refqfsz5-UaQ"
      },
      "execution_count": null,
      "outputs": []
    },
    {
      "cell_type": "code",
      "source": [
        "# Web Scrape Headers\n",
        "header = []\n",
        "for i in soup.find_all('th'):\n",
        "  col_name = i.text.strip().lower().replace(\" \",\"_\")\n",
        "  header.append(col_name)\n",
        "header"
      ],
      "metadata": {
        "colab": {
          "base_uri": "https://localhost:8080/"
        },
        "id": "2T-olIjaKo5v",
        "outputId": "56ed893c-47fc-4cbd-d18d-4d33ddf935f9"
      },
      "execution_count": null,
      "outputs": [
        {
          "output_type": "execute_result",
          "data": {
            "text/plain": [
              "['date',\n",
              " '20_yr',\n",
              " '30_yr',\n",
              " 'extrapolation_factor',\n",
              " '4_weeks_bank_discount',\n",
              " 'coupon_equivalent',\n",
              " '8_weeks_bank_discount',\n",
              " 'coupon_equivalent',\n",
              " '13_weeks_bank_discount',\n",
              " 'coupon_equivalent',\n",
              " '26_weeks_bank_discount',\n",
              " 'coupon_equivalent',\n",
              " '52_weeks_bank_discount',\n",
              " 'coupon_equivalent',\n",
              " '1_mo',\n",
              " '2_mo',\n",
              " '3_mo',\n",
              " '20_yr',\n",
              " '30_yr']"
            ]
          },
          "metadata": {},
          "execution_count": 29
        }
      ]
    },
    {
      "cell_type": "markdown",
      "source": [
        "**DATA NORMALIZATION/CLEANING**"
      ],
      "metadata": {
        "id": "4B59zklbwEoN"
      }
    },
    {
      "cell_type": "code",
      "source": [
        "# We need only 5 years or 1259 rows of data\n",
        "len(row_data)"
      ],
      "metadata": {
        "colab": {
          "base_uri": "https://localhost:8080/"
        },
        "id": "43R9xtpuKZSr",
        "outputId": "489e936c-3802-4c62-99c0-6ddca9b6798e"
      },
      "execution_count": null,
      "outputs": [
        {
          "output_type": "execute_result",
          "data": {
            "text/plain": [
              "1374"
            ]
          },
          "metadata": {},
          "execution_count": 30
        }
      ]
    },
    {
      "cell_type": "code",
      "source": [
        "# convert 13 week tbill rate to float type, and get only last 5 years of data\n",
        "result = pd.DataFrame(row_data, columns = header)\n",
        "tbill = result.iloc[-1259:,[0,9]]\n",
        "tbill['coupon_equivalent'].astype(float)"
      ],
      "metadata": {
        "colab": {
          "base_uri": "https://localhost:8080/"
        },
        "id": "Ob6WLpZuLS8V",
        "outputId": "a772ba62-4a6a-4a51-a796-aae5c89caa0b"
      },
      "execution_count": null,
      "outputs": [
        {
          "output_type": "execute_result",
          "data": {
            "text/plain": [
              "115     1.03\n",
              "116     1.03\n",
              "117     1.02\n",
              "118     0.99\n",
              "119     0.96\n",
              "        ... \n",
              "1369    1.81\n",
              "1370    1.72\n",
              "1371    1.57\n",
              "1372    1.61\n",
              "1373    1.69\n",
              "Name: coupon_equivalent, Length: 1259, dtype: float64"
            ]
          },
          "metadata": {},
          "execution_count": 31
        }
      ]
    },
    {
      "cell_type": "code",
      "source": [
        "# find data types\n",
        "tbill.dtypes"
      ],
      "metadata": {
        "colab": {
          "base_uri": "https://localhost:8080/"
        },
        "id": "5tMSgrv8jBIl",
        "outputId": "2fe01a80-cdf1-4bb3-8231-464662114912"
      },
      "execution_count": null,
      "outputs": [
        {
          "output_type": "execute_result",
          "data": {
            "text/plain": [
              "date                 object\n",
              "coupon_equivalent    object\n",
              "dtype: object"
            ]
          },
          "metadata": {},
          "execution_count": 32
        }
      ]
    },
    {
      "cell_type": "code",
      "source": [
        "#convert coupon_equivalent column to float\n",
        "tbill['coupon_equivalent'] = tbill['coupon_equivalent'].astype(float)\n",
        "tbill.dtypes"
      ],
      "metadata": {
        "colab": {
          "base_uri": "https://localhost:8080/"
        },
        "id": "Ea6nBH0WjGqR",
        "outputId": "e64b2c52-e106-4cde-b16e-f1215098e68e"
      },
      "execution_count": null,
      "outputs": [
        {
          "output_type": "execute_result",
          "data": {
            "text/plain": [
              "date                  object\n",
              "coupon_equivalent    float64\n",
              "dtype: object"
            ]
          },
          "metadata": {},
          "execution_count": 33
        }
      ]
    },
    {
      "cell_type": "code",
      "source": [
        "#avg tbill yearly\n",
        "rfr_avg = tbill['coupon_equivalent'].mean()\n",
        "rfr_avg = rfr_avg/100 #Current value is in percent. Need decimal\n",
        "rfr_avg"
      ],
      "metadata": {
        "colab": {
          "base_uri": "https://localhost:8080/"
        },
        "id": "B4UzAqG2gKbj",
        "outputId": "0b787208-1c10-475c-b699-c3576c9c69d1"
      },
      "execution_count": null,
      "outputs": [
        {
          "output_type": "execute_result",
          "data": {
            "text/plain": [
              "0.010761323763955341"
            ]
          },
          "metadata": {},
          "execution_count": 34
        }
      ]
    },
    {
      "cell_type": "markdown",
      "source": [
        "**CAPITAL ASSET PRICING MODEL**"
      ],
      "metadata": {
        "id": "gJJtqIePv3Di"
      }
    },
    {
      "cell_type": "code",
      "source": [
        "portfolio_m_avg_return"
      ],
      "metadata": {
        "colab": {
          "base_uri": "https://localhost:8080/"
        },
        "id": "lE9tKn9n2Y_w",
        "outputId": "3960b1b3-30d1-4585-b6b9-82b14a239077"
      },
      "execution_count": null,
      "outputs": [
        {
          "output_type": "execute_result",
          "data": {
            "text/plain": [
              "Index:^GSPC    0.000352\n",
              "GOOGL          0.000666\n",
              "AMZN           0.000629\n",
              "AAPL           0.001095\n",
              "PFE            0.000484\n",
              "dtype: float64"
            ]
          },
          "metadata": {},
          "execution_count": 35
        }
      ]
    },
    {
      "cell_type": "code",
      "source": [
        "# Calculate weight of portfolio per stock average return\n",
        "portfolio_m_avg_return_df = portfolio_m_avg_return.to_frame()\n",
        "portfolio_m_avg_return_df = portfolio_m_avg_return_df.iloc[1:,] \n",
        "\n",
        "df1 = portfolio_m_avg_return_df.assign(**initial_weight).mul(portfolio_m_avg_return_df)\n",
        "df1 = df1[0].sum()"
      ],
      "metadata": {
        "id": "f-c4-k9_86-l"
      },
      "execution_count": null,
      "outputs": []
    },
    {
      "cell_type": "code",
      "source": [
        "# Beta\n",
        "beta = calc_reg_beta(portfolio_m_log)\n",
        "beta"
      ],
      "metadata": {
        "colab": {
          "base_uri": "https://localhost:8080/"
        },
        "id": "KgwyO5XAEJuT",
        "outputId": "dde570a6-f569-4228-dc86-549784733fa1"
      },
      "execution_count": null,
      "outputs": [
        {
          "output_type": "execute_result",
          "data": {
            "text/plain": [
              "GOOGL    1.110036\n",
              "AMZN     1.037599\n",
              "AAPL     1.215918\n",
              "PFE      0.619168\n",
              "Name: Beta, dtype: float64"
            ]
          },
          "metadata": {},
          "execution_count": 37
        }
      ]
    },
    {
      "cell_type": "code",
      "source": [
        "#CAPM capital asset pricing model\n",
        "rfr = rfr_avg\n",
        "market_return = ((1 + portfolio_m_avg_return[0])**365) - 1\n",
        "beta = calc_reg_beta(portfolio_m_log)\n",
        "expected_return = rfr + beta*(market_return - rfr)\n",
        "expected_return"
      ],
      "metadata": {
        "id": "xDLVDl6h-lZI",
        "colab": {
          "base_uri": "https://localhost:8080/"
        },
        "outputId": "31c4f324-9e62-422b-b25b-a4774c99d964"
      },
      "execution_count": null,
      "outputs": [
        {
          "output_type": "execute_result",
          "data": {
            "text/plain": [
              "GOOGL    0.150890\n",
              "AMZN     0.141746\n",
              "AAPL     0.164256\n",
              "PFE      0.088924\n",
              "Name: Beta, dtype: float64"
            ]
          },
          "metadata": {},
          "execution_count": 38
        }
      ]
    },
    {
      "cell_type": "markdown",
      "source": [
        "**JENSEN'S ALPHA**"
      ],
      "metadata": {
        "id": "8JQMU4M4TJih"
      }
    },
    {
      "cell_type": "code",
      "source": [
        "#import libraries\n",
        "import statsmodels.regression.linear_model as lm\n",
        "import statsmodels.tools.tools as ct"
      ],
      "metadata": {
        "id": "avxiWaAtKgvI",
        "colab": {
          "base_uri": "https://localhost:8080/"
        },
        "outputId": "04f8c5f8-3242-4600-e58f-6ca805f90355"
      },
      "execution_count": null,
      "outputs": [
        {
          "output_type": "stream",
          "name": "stderr",
          "text": [
            "/usr/local/lib/python3.7/dist-packages/statsmodels/tools/_testing.py:19: FutureWarning: pandas.util.testing is deprecated. Use the functions in the public API at pandas.testing instead.\n",
            "  import pandas.util.testing as tm\n"
          ]
        }
      ]
    },
    {
      "cell_type": "code",
      "source": [
        "portfolio_mean = portfolio.pct_change()   # Get pct change\n",
        "portfolio_mean.dropna(inplace = True)\n",
        "portfolio_mean = portfolio_mean.mean()    # Get avg pct change\n",
        "portfolio_mean = portfolio_mean.to_frame()\n",
        "weighted_return = portfolio_mean.mul(pd.Series(initial_weight), axis = 0) # get weighted returns\n",
        "portfolio_ret = np.sum(weighted_return) # Get total portfolio returns\n",
        "portfolio_ret"
      ],
      "metadata": {
        "colab": {
          "base_uri": "https://localhost:8080/"
        },
        "id": "oLdkvFCNK8U5",
        "outputId": "aef1b7ae-36b9-4795-9d28-0063142aef48"
      },
      "execution_count": null,
      "outputs": [
        {
          "output_type": "execute_result",
          "data": {
            "text/plain": [
              "0    0.000899\n",
              "dtype: float64"
            ]
          },
          "metadata": {},
          "execution_count": 40
        }
      ]
    },
    {
      "cell_type": "markdown",
      "source": [
        "**PORTFOLIO STANDARD DEVIATION**"
      ],
      "metadata": {
        "id": "xVJ7OyoVYJld"
      }
    },
    {
      "cell_type": "code",
      "source": [
        "p_std = portfolio.std()\n",
        "p_mean = portfolio.mean() \n",
        "p_cov = p_std/p_mean\n",
        "p_cov"
      ],
      "metadata": {
        "id": "-UbnMtzU-4aw",
        "colab": {
          "base_uri": "https://localhost:8080/"
        },
        "outputId": "c68e37ba-2338-43d5-a528-07f246cb4f2f"
      },
      "execution_count": null,
      "outputs": [
        {
          "output_type": "execute_result",
          "data": {
            "text/plain": [
              "GOOGL    0.396854\n",
              "AMZN     0.361097\n",
              "AAPL     0.539285\n",
              "PFE      0.204798\n",
              "dtype: float64"
            ]
          },
          "metadata": {},
          "execution_count": 41
        }
      ]
    },
    {
      "cell_type": "markdown",
      "source": [
        "**R-SQUARED MODEL**"
      ],
      "metadata": {
        "id": "IGIO9h3zIaRH"
      }
    },
    {
      "cell_type": "markdown",
      "source": [
        "measures how the stock moves in accordance with the index(in this case S&P500).\n",
        "if R-SQUARE > 0.85 the stock moves proportionally to the index\n",
        "if R-SQUARE < 0.85 the stock doesn't move proportionally to the index\n",
        "\n"
      ],
      "metadata": {
        "id": "h-40O-QBZX08"
      }
    },
    {
      "cell_type": "code",
      "source": [
        "from sklearn.metrics import r2_score"
      ],
      "metadata": {
        "id": "Lm5wgpPKTDlc"
      },
      "execution_count": null,
      "outputs": []
    },
    {
      "cell_type": "code",
      "source": [
        "s_list = list(stocks_list)"
      ],
      "metadata": {
        "id": "w6VXhlwHVKCv"
      },
      "execution_count": null,
      "outputs": []
    },
    {
      "cell_type": "code",
      "source": [
        "index_r2 = np.array(portfolio_m_log['Index:^GSPC']).reshape(-1,1)\n",
        "col_len = len(portfolio_m_log.columns) -1 \n",
        "for i in (n+1 for n in range(col_len)):\n",
        "  print(s_list[i-1])\n",
        "  stock_r2 = np.array(portfolio_m_log.iloc[:,i].values)\n",
        "  r_square = r2_score(stock_r2,index_r2)\n",
        "  print(r_square)"
      ],
      "metadata": {
        "colab": {
          "base_uri": "https://localhost:8080/"
        },
        "id": "m4ufTvtpcaCK",
        "outputId": "520e4c3b-dea7-4027-a009-cc2d721497a1"
      },
      "execution_count": null,
      "outputs": [
        {
          "output_type": "stream",
          "name": "stdout",
          "text": [
            "GOOGL\n",
            "0.6167636242697512\n",
            "AMZN\n",
            "0.41498867189255206\n",
            "AAPL\n",
            "0.5993588179210234\n",
            "PFE\n",
            "0.16102294977464737\n"
          ]
        }
      ]
    },
    {
      "cell_type": "markdown",
      "source": [
        "**SHARPE RATIO**"
      ],
      "metadata": {
        "id": "8chPjRdKuUvv"
      }
    },
    {
      "cell_type": "code",
      "source": [
        "for i in range(len(log_returns.columns)):\n",
        "    print(s_list[i])\n",
        "    std_i = log_returns.iloc[:,i].values.std()*np.sqrt(252)\n",
        "    cumulative_i = ((portfolio.iloc[-1,i] / portfolio.iloc[0,i])**(1/5)) - 1\n",
        "    sharpe_i = (cumulative_i - rfr) / std_i\n",
        "    print(sharpe_i)"
      ],
      "metadata": {
        "id": "U4a46bCN-8w_",
        "colab": {
          "base_uri": "https://localhost:8080/"
        },
        "outputId": "109a143d-5d91-461f-e65f-69b2ccb8b97f"
      },
      "execution_count": null,
      "outputs": [
        {
          "output_type": "stream",
          "name": "stdout",
          "text": [
            "GOOGL\n",
            "0.5891700576239821\n",
            "AMZN\n",
            "0.4816430465890627\n",
            "AAPL\n",
            "0.9568914393034844\n",
            "PFE\n",
            "0.4707365246363684\n"
          ]
        }
      ]
    },
    {
      "cell_type": "markdown",
      "source": [
        "**Efficient Frontiers**"
      ],
      "metadata": {
        "id": "G-HlZARy3Aao"
      }
    },
    {
      "cell_type": "code",
      "source": [
        "# Values for each individual stock\n",
        "from numpy.ma.core import var\n",
        "mean = pd.DataFrame(log_returns.mean())\n",
        "var = pd.DataFrame(np.var(log_returns))\n",
        "std = pd.DataFrame(log_returns.std())\n",
        "cov = log_returns.cov()\n",
        "corr = log_returns.corr(method='pearson')"
      ],
      "metadata": {
        "id": "i5ov8CR72xmN"
      },
      "execution_count": null,
      "outputs": []
    },
    {
      "cell_type": "code",
      "source": [
        "# Values for total portfolio\n",
        "weighted_return = portfolio_mean.mul(pd.Series(initial_weight), axis = 0) # get weighted returns\n",
        "w_mean = mean = pd.DataFrame(weighted_return.mean())\n",
        "w_var = np.var(weighted_return)\n",
        "w_std = var*np.sqrt(252)"
      ],
      "metadata": {
        "id": "U6zy-zCe5_FT"
      },
      "execution_count": null,
      "outputs": []
    },
    {
      "cell_type": "code",
      "source": [
        "#Total Portfolio Returns\n",
        "weighted_total_returns = np.dot(log_returns.mean(),pd.Series(weight_list))\n",
        "cov = log_returns.cov()"
      ],
      "metadata": {
        "id": "wuaJhcRE7jv5"
      },
      "execution_count": null,
      "outputs": []
    },
    {
      "cell_type": "code",
      "source": [
        "def portfolioreturn(weights):\n",
        "  return np.dot(log_returns.mean(),weights)"
      ],
      "metadata": {
        "id": "aRb4OIabNJaK"
      },
      "execution_count": null,
      "outputs": []
    },
    {
      "cell_type": "code",
      "source": [
        "def weightscreator(df):\n",
        "  rand = np.random.random(len(log_returns.columns))\n",
        "  rand /= rand.sum()\n",
        "  return rand"
      ],
      "metadata": {
        "id": "_Z_yUWOECZUe"
      },
      "execution_count": null,
      "outputs": []
    },
    {
      "cell_type": "code",
      "source": [
        "weightscreator(log_returns)"
      ],
      "metadata": {
        "colab": {
          "base_uri": "https://localhost:8080/"
        },
        "id": "JJHKRoLZD0Gp",
        "outputId": "bed8b25a-6d8f-47d2-d9fc-6bc11bd075fe"
      },
      "execution_count": null,
      "outputs": [
        {
          "output_type": "execute_result",
          "data": {
            "text/plain": [
              "array([0.37508182, 0.34395007, 0.1132171 , 0.16775101])"
            ]
          },
          "metadata": {},
          "execution_count": 51
        }
      ]
    },
    {
      "cell_type": "code",
      "source": [
        "def portfoliostd(weights):\n",
        "  return(np.dot(np.dot(log_returns.cov(),weights),weights))**(1/2)*np.sqrt(252)"
      ],
      "metadata": {
        "id": "DUhgCZW7H5Tc"
      },
      "execution_count": null,
      "outputs": []
    },
    {
      "cell_type": "code",
      "source": [
        "portfoliostd(weight_list)"
      ],
      "metadata": {
        "colab": {
          "base_uri": "https://localhost:8080/"
        },
        "id": "aFGnQXPOJxlr",
        "outputId": "69521a82-1d1b-4ef0-90b5-2035e4959e72"
      },
      "execution_count": null,
      "outputs": [
        {
          "output_type": "execute_result",
          "data": {
            "text/plain": [
              "0.23775386153210631"
            ]
          },
          "metadata": {},
          "execution_count": 53
        }
      ]
    },
    {
      "cell_type": "code",
      "source": [
        "returns = []\n",
        "stds = []\n",
        "w = []\n",
        "p_sharpe = []\n",
        "for i in range(1000):\n",
        "  weights = weightscreator(log_returns)\n",
        "  returns.append(portfolioreturn(weights))\n",
        "  stds.append(portfoliostd(weights))\n",
        "  w.append(weights)\n",
        "  p_sharpe.append(portfolioreturn(weights)/portfoliostd(weights))"
      ],
      "metadata": {
        "id": "k_YYGDzdEBm2"
      },
      "execution_count": null,
      "outputs": []
    },
    {
      "cell_type": "code",
      "source": [
        "np_sharpe = np.array(p_sharpe)\n",
        "np_sharpe"
      ],
      "metadata": {
        "id": "jjnQGwpdvaKP"
      },
      "execution_count": null,
      "outputs": []
    },
    {
      "cell_type": "code",
      "source": [
        "max_index = np_sharpe.argmax()\n",
        "max_index"
      ],
      "metadata": {
        "id": "qFqCLrmOt4xY"
      },
      "execution_count": null,
      "outputs": []
    },
    {
      "cell_type": "code",
      "source": [
        "returns[stds.index(min(stds))]"
      ],
      "metadata": {
        "colab": {
          "base_uri": "https://localhost:8080/"
        },
        "id": "KdLv7n3myzuj",
        "outputId": "af7f6949-387a-4049-f38f-352bf719e19b"
      },
      "execution_count": null,
      "outputs": [
        {
          "output_type": "execute_result",
          "data": {
            "text/plain": [
              "0.000572329371267714"
            ]
          },
          "metadata": {},
          "execution_count": 88
        }
      ]
    },
    {
      "cell_type": "code",
      "source": [
        "import matplotlib.pyplot as plt\n",
        "plt.figure(figsize=(12,6))\n",
        "plt.scatter(stds,returns,c = p_sharpe)\n",
        "plt.title(\"Efficient frontiers\")\n",
        "plt.xlabel(\"portfolio ST Dev\")\n",
        "plt.ylabel(\"portfolio return\")\n",
        "plt.colorbar(label='SR')\n",
        "plt.show()"
      ],
      "metadata": {
        "colab": {
          "base_uri": "https://localhost:8080/",
          "height": 403
        },
        "id": "PlKp2an3Fc_n",
        "outputId": "df4d19f8-a8c8-4fd7-e1aa-7d09a35cfe95"
      },
      "execution_count": null,
      "outputs": [
        {
          "output_type": "display_data",
          "data": {
            "text/plain": [
              "<Figure size 864x432 with 2 Axes>"
            ],
            "image/png": "[encoded data removed]"
          },
          "metadata": {
            "needs_background": "light"
          }
        }
      ]
    },
    {
      "cell_type": "code",
      "source": [
        ""
      ],
      "metadata": {
        "id": "TUfCv-MOR7KI"
      },
      "execution_count": null,
      "outputs": []
    },
    {
      "cell_type": "code",
      "source": [
        "#Value at Risk"
      ],
      "metadata": {
        "id": "FxLMQ90L_A0-"
      },
      "execution_count": null,
      "outputs": []
    },
    {
      "cell_type": "code",
      "source": [
        "#The Bottom Line"
      ],
      "metadata": {
        "id": "5BZfYz2Q_D6X"
      },
      "execution_count": null,
      "outputs": []
    },
    {
      "cell_type": "code",
      "source": [
        "# MONTE CARLO SIMULATION"
      ],
      "metadata": {
        "id": "P8n6OuTzV-bU"
      },
      "execution_count": null,
      "outputs": []
    }
  ]
}