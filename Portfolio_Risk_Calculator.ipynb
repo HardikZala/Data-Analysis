{
  "nbformat": 4,
  "nbformat_minor": 0,
  "metadata": {
    "colab": {
      "name": "Portfolio Risk Calculator",
      "provenance": [],
      "authorship_tag": "ABX9TyOjtw/xN1kX6diDzRaHzrEh",
      "include_colab_link": true
    },
    "kernelspec": {
      "name": "python3",
      "display_name": "Python 3"
    },
    "language_info": {
      "name": "python"
    }
  },
  "cells": [
    {
      "cell_type": "markdown",
      "metadata": {
        "id": "view-in-github",
        "colab_type": "text"
      },
      "source": [
        "<a href=\"https://colab.research.google.com/github/HardikZala/Data-Analysis/blob/main/Portfolio_Risk_Calculator.ipynb\" target=\"_parent\"><img src=\"https://colab.research.google.com/assets/colab-badge.svg\" alt=\"Open In Colab\"/></a>"
      ]
    },
    {
      "cell_type": "code",
      "execution_count": 1,
      "metadata": {
        "id": "ZesvT4m9k1Lb"
      },
      "outputs": [],
      "source": [
        "# Web scrape yahoo finance, based on stock ticker that the user enters\n",
        "# create portfolio with all the stock information, and portfolio weights\n",
        "# calculate and generate dashboard to display portfolio risk\n",
        "# BONUS: compare portfolios to other portfolios with similar risk and returns\n",
        "# BONUS: ADD crypto into the portfolio: CHALLANGE: cryoti trades 7 days a week, stock markets trade 5 days a week:\n",
        "  #possible solution: make stock null values friday close value: possibly change trading days to 365 from 253(yearly trading days) "
      ]
    },
    {
      "cell_type": "code",
      "source": [
        "!pip install bs4\n",
        "!pip install requests"
      ],
      "metadata": {
        "colab": {
          "base_uri": "https://localhost:8080/"
        },
        "id": "GemB3qo8YGVj",
        "outputId": "ae00f478-a819-4c6f-adab-de8f621c67c2"
      },
      "execution_count": 2,
      "outputs": [
        {
          "output_type": "stream",
          "name": "stdout",
          "text": [
            "Looking in indexes: https://pypi.org/simple, https://us-python.pkg.dev/colab-wheels/public/simple/\n",
            "Requirement already satisfied: bs4 in /usr/local/lib/python3.7/dist-packages (0.0.1)\n",
            "Requirement already satisfied: beautifulsoup4 in /usr/local/lib/python3.7/dist-packages (from bs4) (4.6.3)\n",
            "Looking in indexes: https://pypi.org/simple, https://us-python.pkg.dev/colab-wheels/public/simple/\n",
            "Requirement already satisfied: requests in /usr/local/lib/python3.7/dist-packages (2.23.0)\n",
            "Requirement already satisfied: chardet<4,>=3.0.2 in /usr/local/lib/python3.7/dist-packages (from requests) (3.0.4)\n",
            "Requirement already satisfied: idna<3,>=2.5 in /usr/local/lib/python3.7/dist-packages (from requests) (2.10)\n",
            "Requirement already satisfied: urllib3!=1.25.0,!=1.25.1,<1.26,>=1.21.1 in /usr/local/lib/python3.7/dist-packages (from requests) (1.24.3)\n",
            "Requirement already satisfied: certifi>=2017.4.17 in /usr/local/lib/python3.7/dist-packages (from requests) (2022.5.18.1)\n"
          ]
        }
      ]
    },
    {
      "cell_type": "code",
      "source": [
        "import pandas as pd\n",
        "import numpy as np\n",
        "import re\n",
        "import json\n",
        "import csv\n",
        "from io import StringIO\n",
        "from bs4 import BeautifulSoup\n",
        "import requests"
      ],
      "metadata": {
        "id": "wr1PCPTnmIVp"
      },
      "execution_count": 3,
      "outputs": []
    },
    {
      "cell_type": "code",
      "source": [
        "!pip install yfinance"
      ],
      "metadata": {
        "colab": {
          "base_uri": "https://localhost:8080/",
          "height": 659
        },
        "id": "VpfkDCRyqcyB",
        "outputId": "c7a52277-d516-4f9d-85b4-f1d4e77e4613"
      },
      "execution_count": 4,
      "outputs": [
        {
          "output_type": "stream",
          "name": "stdout",
          "text": [
            "Looking in indexes: https://pypi.org/simple, https://us-python.pkg.dev/colab-wheels/public/simple/\n",
            "Collecting yfinance\n",
            "  Downloading yfinance-0.1.70-py2.py3-none-any.whl (26 kB)\n",
            "Requirement already satisfied: numpy>=1.15 in /usr/local/lib/python3.7/dist-packages (from yfinance) (1.21.6)\n",
            "Collecting requests>=2.26\n",
            "  Downloading requests-2.27.1-py2.py3-none-any.whl (63 kB)\n",
            "\u001b[K     |████████████████████████████████| 63 kB 1.4 MB/s \n",
            "\u001b[?25hRequirement already satisfied: pandas>=0.24.0 in /usr/local/lib/python3.7/dist-packages (from yfinance) (1.3.5)\n",
            "Requirement already satisfied: multitasking>=0.0.7 in /usr/local/lib/python3.7/dist-packages (from yfinance) (0.0.10)\n",
            "Collecting lxml>=4.5.1\n",
            "  Downloading lxml-4.9.0-cp37-cp37m-manylinux_2_17_x86_64.manylinux2014_x86_64.manylinux_2_24_x86_64.whl (6.4 MB)\n",
            "\u001b[K     |████████████████████████████████| 6.4 MB 38.8 MB/s \n",
            "\u001b[?25hRequirement already satisfied: python-dateutil>=2.7.3 in /usr/local/lib/python3.7/dist-packages (from pandas>=0.24.0->yfinance) (2.8.2)\n",
            "Requirement already satisfied: pytz>=2017.3 in /usr/local/lib/python3.7/dist-packages (from pandas>=0.24.0->yfinance) (2022.1)\n",
            "Requirement already satisfied: six>=1.5 in /usr/local/lib/python3.7/dist-packages (from python-dateutil>=2.7.3->pandas>=0.24.0->yfinance) (1.15.0)\n",
            "Requirement already satisfied: urllib3<1.27,>=1.21.1 in /usr/local/lib/python3.7/dist-packages (from requests>=2.26->yfinance) (1.24.3)\n",
            "Requirement already satisfied: certifi>=2017.4.17 in /usr/local/lib/python3.7/dist-packages (from requests>=2.26->yfinance) (2022.5.18.1)\n",
            "Requirement already satisfied: charset-normalizer~=2.0.0 in /usr/local/lib/python3.7/dist-packages (from requests>=2.26->yfinance) (2.0.12)\n",
            "Requirement already satisfied: idna<4,>=2.5 in /usr/local/lib/python3.7/dist-packages (from requests>=2.26->yfinance) (2.10)\n",
            "Installing collected packages: requests, lxml, yfinance\n",
            "  Attempting uninstall: requests\n",
            "    Found existing installation: requests 2.23.0\n",
            "    Uninstalling requests-2.23.0:\n",
            "      Successfully uninstalled requests-2.23.0\n",
            "  Attempting uninstall: lxml\n",
            "    Found existing installation: lxml 4.2.6\n",
            "    Uninstalling lxml-4.2.6:\n",
            "      Successfully uninstalled lxml-4.2.6\n",
            "\u001b[31mERROR: pip's dependency resolver does not currently take into account all the packages that are installed. This behaviour is the source of the following dependency conflicts.\n",
            "google-colab 1.0.0 requires requests~=2.23.0, but you have requests 2.27.1 which is incompatible.\n",
            "datascience 0.10.6 requires folium==0.2.1, but you have folium 0.8.3 which is incompatible.\u001b[0m\n",
            "Successfully installed lxml-4.9.0 requests-2.27.1 yfinance-0.1.70\n"
          ]
        },
        {
          "output_type": "display_data",
          "data": {
            "application/vnd.colab-display-data+json": {
              "pip_warning": {
                "packages": [
                  "lxml",
                  "requests"
                ]
              }
            }
          },
          "metadata": {}
        }
      ]
    },
    {
      "cell_type": "code",
      "source": [
        "import yfinance as yf"
      ],
      "metadata": {
        "id": "Maaf_2JFqt-j"
      },
      "execution_count": 5,
      "outputs": []
    },
    {
      "cell_type": "code",
      "source": [
        "#Populate portfolio with stocks \n",
        "print('enter stock ticker')\n",
        "print('press q to quit')\n",
        "stocks_list = set()\n",
        "weight = np.array([])\n",
        "companies = {}\n",
        "while True:                               #While Loop to get user's stock Tickers\n",
        "    stock = str.upper(input())\n",
        "    if str.upper(stock) == 'Q':\n",
        "        break\n",
        "    stocks_list.add(stock)             # store input in stocks_list \n",
        "\n",
        "for stock in stocks_list:                 # for loop to call yfinance api to get stock closing prices\n",
        "  prices = yf.Ticker(stock)\n",
        "  prices = prices.history(period ='5y')\n",
        "  companies[stock] = prices                     \n",
        "  companies[stock] = companies[stock]['Close']  # added a companies dictionary to get stock name and price\n",
        "\n",
        "portfolio = pd.concat(companies, axis = 1)  # concat all the stock prices into one data frame called portfolio\n",
        "portfolio"
      ],
      "metadata": {
        "colab": {
          "base_uri": "https://localhost:8080/",
          "height": 576
        },
        "id": "BQ6k73plrUaM",
        "outputId": "5fa9fdba-bda3-4839-9d22-f07c0fa5128d"
      },
      "execution_count": 6,
      "outputs": [
        {
          "name": "stdout",
          "output_type": "stream",
          "text": [
            "enter stock ticker\n",
            "press q to quit\n",
            "aapl\n",
            "pfe\n",
            "amzn\n",
            "googl\n",
            "q\n"
          ]
        },
        {
          "output_type": "execute_result",
          "data": {
            "text/plain": [
              "                  GOOGL        AMZN        PFE        AAPL\n",
              "Date                                                      \n",
              "2017-06-07  1001.500000   50.503502  25.245651   36.770878\n",
              "2017-06-08  1004.280029   50.513500  25.048422   36.680943\n",
              "2017-06-09   970.119995   48.915501  25.853121   35.258579\n",
              "2017-06-12   961.809998   48.245499  25.797894   34.416050\n",
              "2017-06-13   970.500000   49.039501  25.703222   34.692947\n",
              "...                 ...         ...        ...         ...\n",
              "2022-05-31  2275.239990  120.209503  53.040001  148.839996\n",
              "2022-06-01  2277.840088  121.683998  52.369999  148.710007\n",
              "2022-06-02  2352.449951  125.511002  52.680000  151.210007\n",
              "2022-06-03  2290.820068  122.349998  53.200001  145.380005\n",
              "2022-06-06  2336.409912  124.790001  53.259998  146.139999\n",
              "\n",
              "[1259 rows x 4 columns]"
            ],
            "text/html": [
              "\n",
              "  <div id=\"df-df285799-f7a7-4213-9eaf-17ec203c9dc1\">\n",
              "    <div class=\"colab-df-container\">\n",
              "      <div>\n",
              "<style scoped>\n",
              "    .dataframe tbody tr th:only-of-type {\n",
              "        vertical-align: middle;\n",
              "    }\n",
              "\n",
              "    .dataframe tbody tr th {\n",
              "        vertical-align: top;\n",
              "    }\n",
              "\n",
              "    .dataframe thead th {\n",
              "        text-align: right;\n",
              "    }\n",
              "</style>\n",
              "<table border=\"1\" class=\"dataframe\">\n",
              "  <thead>\n",
              "    <tr style=\"text-align: right;\">\n",
              "      <th></th>\n",
              "      <th>GOOGL</th>\n",
              "      <th>AMZN</th>\n",
              "      <th>PFE</th>\n",
              "      <th>AAPL</th>\n",
              "    </tr>\n",
              "    <tr>\n",
              "      <th>Date</th>\n",
              "      <th></th>\n",
              "      <th></th>\n",
              "      <th></th>\n",
              "      <th></th>\n",
              "    </tr>\n",
              "  </thead>\n",
              "  <tbody>\n",
              "    <tr>\n",
              "      <th>2017-06-07</th>\n",
              "      <td>1001.500000</td>\n",
              "      <td>50.503502</td>\n",
              "      <td>25.245651</td>\n",
              "      <td>36.770878</td>\n",
              "    </tr>\n",
              "    <tr>\n",
              "      <th>2017-06-08</th>\n",
              "      <td>1004.280029</td>\n",
              "      <td>50.513500</td>\n",
              "      <td>25.048422</td>\n",
              "      <td>36.680943</td>\n",
              "    </tr>\n",
              "    <tr>\n",
              "      <th>2017-06-09</th>\n",
              "      <td>970.119995</td>\n",
              "      <td>48.915501</td>\n",
              "      <td>25.853121</td>\n",
              "      <td>35.258579</td>\n",
              "    </tr>\n",
              "    <tr>\n",
              "      <th>2017-06-12</th>\n",
              "      <td>961.809998</td>\n",
              "      <td>48.245499</td>\n",
              "      <td>25.797894</td>\n",
              "      <td>34.416050</td>\n",
              "    </tr>\n",
              "    <tr>\n",
              "      <th>2017-06-13</th>\n",
              "      <td>970.500000</td>\n",
              "      <td>49.039501</td>\n",
              "      <td>25.703222</td>\n",
              "      <td>34.692947</td>\n",
              "    </tr>\n",
              "    <tr>\n",
              "      <th>...</th>\n",
              "      <td>...</td>\n",
              "      <td>...</td>\n",
              "      <td>...</td>\n",
              "      <td>...</td>\n",
              "    </tr>\n",
              "    <tr>\n",
              "      <th>2022-05-31</th>\n",
              "      <td>2275.239990</td>\n",
              "      <td>120.209503</td>\n",
              "      <td>53.040001</td>\n",
              "      <td>148.839996</td>\n",
              "    </tr>\n",
              "    <tr>\n",
              "      <th>2022-06-01</th>\n",
              "      <td>2277.840088</td>\n",
              "      <td>121.683998</td>\n",
              "      <td>52.369999</td>\n",
              "      <td>148.710007</td>\n",
              "    </tr>\n",
              "    <tr>\n",
              "      <th>2022-06-02</th>\n",
              "      <td>2352.449951</td>\n",
              "      <td>125.511002</td>\n",
              "      <td>52.680000</td>\n",
              "      <td>151.210007</td>\n",
              "    </tr>\n",
              "    <tr>\n",
              "      <th>2022-06-03</th>\n",
              "      <td>2290.820068</td>\n",
              "      <td>122.349998</td>\n",
              "      <td>53.200001</td>\n",
              "      <td>145.380005</td>\n",
              "    </tr>\n",
              "    <tr>\n",
              "      <th>2022-06-06</th>\n",
              "      <td>2336.409912</td>\n",
              "      <td>124.790001</td>\n",
              "      <td>53.259998</td>\n",
              "      <td>146.139999</td>\n",
              "    </tr>\n",
              "  </tbody>\n",
              "</table>\n",
              "<p>1259 rows × 4 columns</p>\n",
              "</div>\n",
              "      <button class=\"colab-df-convert\" onclick=\"convertToInteractive('df-df285799-f7a7-4213-9eaf-17ec203c9dc1')\"\n",
              "              title=\"Convert this dataframe to an interactive table.\"\n",
              "              style=\"display:none;\">\n",
              "        \n",
              "  <svg xmlns=\"http://www.w3.org/2000/svg\" height=\"24px\"viewBox=\"0 0 24 24\"\n",
              "       width=\"24px\">\n",
              "    <path d=\"M0 0h24v24H0V0z\" fill=\"none\"/>\n",
              "    <path d=\"M18.56 5.44l.94 2.06.94-2.06 2.06-.94-2.06-.94-.94-2.06-.94 2.06-2.06.94zm-11 1L8.5 8.5l.94-2.06 2.06-.94-2.06-.94L8.5 2.5l-.94 2.06-2.06.94zm10 10l.94 2.06.94-2.06 2.06-.94-2.06-.94-.94-2.06-.94 2.06-2.06.94z\"/><path d=\"M17.41 7.96l-1.37-1.37c-.4-.4-.92-.59-1.43-.59-.52 0-1.04.2-1.43.59L10.3 9.45l-7.72 7.72c-.78.78-.78 2.05 0 2.83L4 21.41c.39.39.9.59 1.41.59.51 0 1.02-.2 1.41-.59l7.78-7.78 2.81-2.81c.8-.78.8-2.07 0-2.86zM5.41 20L4 18.59l7.72-7.72 1.47 1.35L5.41 20z\"/>\n",
              "  </svg>\n",
              "      </button>\n",
              "      \n",
              "  <style>\n",
              "    .colab-df-container {\n",
              "      display:flex;\n",
              "      flex-wrap:wrap;\n",
              "      gap: 12px;\n",
              "    }\n",
              "\n",
              "    .colab-df-convert {\n",
              "      background-color: #E8F0FE;\n",
              "      border: none;\n",
              "      border-radius: 50%;\n",
              "      cursor: pointer;\n",
              "      display: none;\n",
              "      fill: #1967D2;\n",
              "      height: 32px;\n",
              "      padding: 0 0 0 0;\n",
              "      width: 32px;\n",
              "    }\n",
              "\n",
              "    .colab-df-convert:hover {\n",
              "      background-color: #E2EBFA;\n",
              "      box-shadow: 0px 1px 2px rgba(60, 64, 67, 0.3), 0px 1px 3px 1px rgba(60, 64, 67, 0.15);\n",
              "      fill: #174EA6;\n",
              "    }\n",
              "\n",
              "    [theme=dark] .colab-df-convert {\n",
              "      background-color: #3B4455;\n",
              "      fill: #D2E3FC;\n",
              "    }\n",
              "\n",
              "    [theme=dark] .colab-df-convert:hover {\n",
              "      background-color: #434B5C;\n",
              "      box-shadow: 0px 1px 3px 1px rgba(0, 0, 0, 0.15);\n",
              "      filter: drop-shadow(0px 1px 2px rgba(0, 0, 0, 0.3));\n",
              "      fill: #FFFFFF;\n",
              "    }\n",
              "  </style>\n",
              "\n",
              "      <script>\n",
              "        const buttonEl =\n",
              "          document.querySelector('#df-df285799-f7a7-4213-9eaf-17ec203c9dc1 button.colab-df-convert');\n",
              "        buttonEl.style.display =\n",
              "          google.colab.kernel.accessAllowed ? 'block' : 'none';\n",
              "\n",
              "        async function convertToInteractive(key) {\n",
              "          const element = document.querySelector('#df-df285799-f7a7-4213-9eaf-17ec203c9dc1');\n",
              "          const dataTable =\n",
              "            await google.colab.kernel.invokeFunction('convertToInteractive',\n",
              "                                                     [key], {});\n",
              "          if (!dataTable) return;\n",
              "\n",
              "          const docLinkHtml = 'Like what you see? Visit the ' +\n",
              "            '<a target=\"_blank\" href=https://colab.research.google.com/notebooks/data_table.ipynb>data table notebook</a>'\n",
              "            + ' to learn more about interactive tables.';\n",
              "          element.innerHTML = '';\n",
              "          dataTable['output_type'] = 'display_data';\n",
              "          await google.colab.output.renderOutput(dataTable, element);\n",
              "          const docLink = document.createElement('div');\n",
              "          docLink.innerHTML = docLinkHtml;\n",
              "          element.appendChild(docLink);\n",
              "        }\n",
              "      </script>\n",
              "    </div>\n",
              "  </div>\n",
              "  "
            ]
          },
          "metadata": {},
          "execution_count": 6
        }
      ]
    },
    {
      "cell_type": "code",
      "source": [
        "# Get user input for portfolio weights\n",
        "initial_weight = {} \n",
        "keys = portfolio.shape[1]\n",
        "weight_list = []\n",
        "x = list(stocks_list)\n",
        "\n",
        "for i in range(keys):\n",
        "    print('For stock:',x[i]) \n",
        "    weight = float(input('enter 0.XXXX format portfolio weights:'))\n",
        "    if i <= keys:\n",
        "      weight_list.append(weight)\n",
        "      k = x[i]\n",
        "      initial_weight[k] = weight_list[i]\n",
        "    else:\n",
        "      break "
      ],
      "metadata": {
        "colab": {
          "base_uri": "https://localhost:8080/"
        },
        "id": "T87m8E7nshbk",
        "outputId": "1cab5e1e-c766-46f7-89f6-baca24f4078c"
      },
      "execution_count": 7,
      "outputs": [
        {
          "name": "stdout",
          "output_type": "stream",
          "text": [
            "For stock: GOOGL\n",
            "enter 0.XXXX format portfolio weights:0.25\n",
            "For stock: AMZN\n",
            "enter 0.XXXX format portfolio weights:0.25\n",
            "For stock: PFE\n",
            "enter 0.XXXX format portfolio weights:0.25\n",
            "For stock: AAPL\n",
            "enter 0.XXXX format portfolio weights:0.25\n"
          ]
        }
      ]
    },
    {
      "cell_type": "code",
      "source": [
        "initial_weight"
      ],
      "metadata": {
        "colab": {
          "base_uri": "https://localhost:8080/"
        },
        "id": "x5NIQ_tz5mdm",
        "outputId": "edc084e3-3bf8-4104-eb70-c2b33338b3f6"
      },
      "execution_count": 8,
      "outputs": [
        {
          "output_type": "execute_result",
          "data": {
            "text/plain": [
              "{'AAPL': 0.25, 'AMZN': 0.25, 'GOOGL': 0.25, 'PFE': 0.25}"
            ]
          },
          "metadata": {},
          "execution_count": 8
        }
      ]
    },
    {
      "cell_type": "code",
      "source": [
        "import matplotlib.pyplot as plt\n",
        "\n",
        "labels = list(initial_weight.keys())\n",
        "values = list(initial_weight.values())\n",
        "\n",
        "plt.pie(values,labels = labels, autopct='%1.2f%%')\n",
        "plt.show()"
      ],
      "metadata": {
        "colab": {
          "base_uri": "https://localhost:8080/",
          "height": 248
        },
        "id": "5komRPfuuETs",
        "outputId": "d976108e-8ce6-47e7-e200-43719177c142"
      },
      "execution_count": 9,
      "outputs": [
        {
          "output_type": "display_data",
          "data": {
            "text/plain": [
              "<Figure size 432x288 with 1 Axes>"
            ],
            "image/png": "[encoded data removed]"
          },
          "metadata": {}
        }
      ]
    },
    {
      "cell_type": "code",
      "source": [
        "portfolio"
      ],
      "metadata": {
        "colab": {
          "base_uri": "https://localhost:8080/",
          "height": 455
        },
        "id": "FK8KojW3ttBc",
        "outputId": "863809cd-4684-40f3-e975-1e9a9dab9fe4"
      },
      "execution_count": 10,
      "outputs": [
        {
          "output_type": "execute_result",
          "data": {
            "text/plain": [
              "                  GOOGL        AMZN        PFE        AAPL\n",
              "Date                                                      \n",
              "2017-06-07  1001.500000   50.503502  25.245651   36.770878\n",
              "2017-06-08  1004.280029   50.513500  25.048422   36.680943\n",
              "2017-06-09   970.119995   48.915501  25.853121   35.258579\n",
              "2017-06-12   961.809998   48.245499  25.797894   34.416050\n",
              "2017-06-13   970.500000   49.039501  25.703222   34.692947\n",
              "...                 ...         ...        ...         ...\n",
              "2022-05-31  2275.239990  120.209503  53.040001  148.839996\n",
              "2022-06-01  2277.840088  121.683998  52.369999  148.710007\n",
              "2022-06-02  2352.449951  125.511002  52.680000  151.210007\n",
              "2022-06-03  2290.820068  122.349998  53.200001  145.380005\n",
              "2022-06-06  2336.409912  124.790001  53.259998  146.139999\n",
              "\n",
              "[1259 rows x 4 columns]"
            ],
            "text/html": [
              "\n",
              "  <div id=\"df-36376eed-3a0c-4ba1-abfc-9903953b59a2\">\n",
              "    <div class=\"colab-df-container\">\n",
              "      <div>\n",
              "<style scoped>\n",
              "    .dataframe tbody tr th:only-of-type {\n",
              "        vertical-align: middle;\n",
              "    }\n",
              "\n",
              "    .dataframe tbody tr th {\n",
              "        vertical-align: top;\n",
              "    }\n",
              "\n",
              "    .dataframe thead th {\n",
              "        text-align: right;\n",
              "    }\n",
              "</style>\n",
              "<table border=\"1\" class=\"dataframe\">\n",
              "  <thead>\n",
              "    <tr style=\"text-align: right;\">\n",
              "      <th></th>\n",
              "      <th>GOOGL</th>\n",
              "      <th>AMZN</th>\n",
              "      <th>PFE</th>\n",
              "      <th>AAPL</th>\n",
              "    </tr>\n",
              "    <tr>\n",
              "      <th>Date</th>\n",
              "      <th></th>\n",
              "      <th></th>\n",
              "      <th></th>\n",
              "      <th></th>\n",
              "    </tr>\n",
              "  </thead>\n",
              "  <tbody>\n",
              "    <tr>\n",
              "      <th>2017-06-07</th>\n",
              "      <td>1001.500000</td>\n",
              "      <td>50.503502</td>\n",
              "      <td>25.245651</td>\n",
              "      <td>36.770878</td>\n",
              "    </tr>\n",
              "    <tr>\n",
              "      <th>2017-06-08</th>\n",
              "      <td>1004.280029</td>\n",
              "      <td>50.513500</td>\n",
              "      <td>25.048422</td>\n",
              "      <td>36.680943</td>\n",
              "    </tr>\n",
              "    <tr>\n",
              "      <th>2017-06-09</th>\n",
              "      <td>970.119995</td>\n",
              "      <td>48.915501</td>\n",
              "      <td>25.853121</td>\n",
              "      <td>35.258579</td>\n",
              "    </tr>\n",
              "    <tr>\n",
              "      <th>2017-06-12</th>\n",
              "      <td>961.809998</td>\n",
              "      <td>48.245499</td>\n",
              "      <td>25.797894</td>\n",
              "      <td>34.416050</td>\n",
              "    </tr>\n",
              "    <tr>\n",
              "      <th>2017-06-13</th>\n",
              "      <td>970.500000</td>\n",
              "      <td>49.039501</td>\n",
              "      <td>25.703222</td>\n",
              "      <td>34.692947</td>\n",
              "    </tr>\n",
              "    <tr>\n",
              "      <th>...</th>\n",
              "      <td>...</td>\n",
              "      <td>...</td>\n",
              "      <td>...</td>\n",
              "      <td>...</td>\n",
              "    </tr>\n",
              "    <tr>\n",
              "      <th>2022-05-31</th>\n",
              "      <td>2275.239990</td>\n",
              "      <td>120.209503</td>\n",
              "      <td>53.040001</td>\n",
              "      <td>148.839996</td>\n",
              "    </tr>\n",
              "    <tr>\n",
              "      <th>2022-06-01</th>\n",
              "      <td>2277.840088</td>\n",
              "      <td>121.683998</td>\n",
              "      <td>52.369999</td>\n",
              "      <td>148.710007</td>\n",
              "    </tr>\n",
              "    <tr>\n",
              "      <th>2022-06-02</th>\n",
              "      <td>2352.449951</td>\n",
              "      <td>125.511002</td>\n",
              "      <td>52.680000</td>\n",
              "      <td>151.210007</td>\n",
              "    </tr>\n",
              "    <tr>\n",
              "      <th>2022-06-03</th>\n",
              "      <td>2290.820068</td>\n",
              "      <td>122.349998</td>\n",
              "      <td>53.200001</td>\n",
              "      <td>145.380005</td>\n",
              "    </tr>\n",
              "    <tr>\n",
              "      <th>2022-06-06</th>\n",
              "      <td>2336.409912</td>\n",
              "      <td>124.790001</td>\n",
              "      <td>53.259998</td>\n",
              "      <td>146.139999</td>\n",
              "    </tr>\n",
              "  </tbody>\n",
              "</table>\n",
              "<p>1259 rows × 4 columns</p>\n",
              "</div>\n",
              "      <button class=\"colab-df-convert\" onclick=\"convertToInteractive('df-36376eed-3a0c-4ba1-abfc-9903953b59a2')\"\n",
              "              title=\"Convert this dataframe to an interactive table.\"\n",
              "              style=\"display:none;\">\n",
              "        \n",
              "  <svg xmlns=\"http://www.w3.org/2000/svg\" height=\"24px\"viewBox=\"0 0 24 24\"\n",
              "       width=\"24px\">\n",
              "    <path d=\"M0 0h24v24H0V0z\" fill=\"none\"/>\n",
              "    <path d=\"M18.56 5.44l.94 2.06.94-2.06 2.06-.94-2.06-.94-.94-2.06-.94 2.06-2.06.94zm-11 1L8.5 8.5l.94-2.06 2.06-.94-2.06-.94L8.5 2.5l-.94 2.06-2.06.94zm10 10l.94 2.06.94-2.06 2.06-.94-2.06-.94-.94-2.06-.94 2.06-2.06.94z\"/><path d=\"M17.41 7.96l-1.37-1.37c-.4-.4-.92-.59-1.43-.59-.52 0-1.04.2-1.43.59L10.3 9.45l-7.72 7.72c-.78.78-.78 2.05 0 2.83L4 21.41c.39.39.9.59 1.41.59.51 0 1.02-.2 1.41-.59l7.78-7.78 2.81-2.81c.8-.78.8-2.07 0-2.86zM5.41 20L4 18.59l7.72-7.72 1.47 1.35L5.41 20z\"/>\n",
              "  </svg>\n",
              "      </button>\n",
              "      \n",
              "  <style>\n",
              "    .colab-df-container {\n",
              "      display:flex;\n",
              "      flex-wrap:wrap;\n",
              "      gap: 12px;\n",
              "    }\n",
              "\n",
              "    .colab-df-convert {\n",
              "      background-color: #E8F0FE;\n",
              "      border: none;\n",
              "      border-radius: 50%;\n",
              "      cursor: pointer;\n",
              "      display: none;\n",
              "      fill: #1967D2;\n",
              "      height: 32px;\n",
              "      padding: 0 0 0 0;\n",
              "      width: 32px;\n",
              "    }\n",
              "\n",
              "    .colab-df-convert:hover {\n",
              "      background-color: #E2EBFA;\n",
              "      box-shadow: 0px 1px 2px rgba(60, 64, 67, 0.3), 0px 1px 3px 1px rgba(60, 64, 67, 0.15);\n",
              "      fill: #174EA6;\n",
              "    }\n",
              "\n",
              "    [theme=dark] .colab-df-convert {\n",
              "      background-color: #3B4455;\n",
              "      fill: #D2E3FC;\n",
              "    }\n",
              "\n",
              "    [theme=dark] .colab-df-convert:hover {\n",
              "      background-color: #434B5C;\n",
              "      box-shadow: 0px 1px 3px 1px rgba(0, 0, 0, 0.15);\n",
              "      filter: drop-shadow(0px 1px 2px rgba(0, 0, 0, 0.3));\n",
              "      fill: #FFFFFF;\n",
              "    }\n",
              "  </style>\n",
              "\n",
              "      <script>\n",
              "        const buttonEl =\n",
              "          document.querySelector('#df-36376eed-3a0c-4ba1-abfc-9903953b59a2 button.colab-df-convert');\n",
              "        buttonEl.style.display =\n",
              "          google.colab.kernel.accessAllowed ? 'block' : 'none';\n",
              "\n",
              "        async function convertToInteractive(key) {\n",
              "          const element = document.querySelector('#df-36376eed-3a0c-4ba1-abfc-9903953b59a2');\n",
              "          const dataTable =\n",
              "            await google.colab.kernel.invokeFunction('convertToInteractive',\n",
              "                                                     [key], {});\n",
              "          if (!dataTable) return;\n",
              "\n",
              "          const docLinkHtml = 'Like what you see? Visit the ' +\n",
              "            '<a target=\"_blank\" href=https://colab.research.google.com/notebooks/data_table.ipynb>data table notebook</a>'\n",
              "            + ' to learn more about interactive tables.';\n",
              "          element.innerHTML = '';\n",
              "          dataTable['output_type'] = 'display_data';\n",
              "          await google.colab.output.renderOutput(dataTable, element);\n",
              "          const docLink = document.createElement('div');\n",
              "          docLink.innerHTML = docLinkHtml;\n",
              "          element.appendChild(docLink);\n",
              "        }\n",
              "      </script>\n",
              "    </div>\n",
              "  </div>\n",
              "  "
            ]
          },
          "metadata": {},
          "execution_count": 10
        }
      ]
    },
    {
      "cell_type": "code",
      "source": [
        "portfolio.describe()"
      ],
      "metadata": {
        "colab": {
          "base_uri": "https://localhost:8080/",
          "height": 300
        },
        "id": "q6mtWzRkvgCq",
        "outputId": "ba39d5b9-9479-4a01-ed56-457c482c80f8"
      },
      "execution_count": 11,
      "outputs": [
        {
          "output_type": "execute_result",
          "data": {
            "text/plain": [
              "             GOOGL         AMZN          PFE         AAPL\n",
              "count  1259.000000  1259.000000  1259.000000  1259.000000\n",
              "mean   1589.186958   112.871398    35.417587    84.423397\n",
              "std     634.909837    41.375810     7.229971    45.983800\n",
              "min     919.460022    46.930000    24.853760    33.670555\n",
              "25%    1109.775024    82.955750    29.956088    44.233175\n",
              "50%    1265.229980    95.622498    33.910912    63.907669\n",
              "75%    2063.500000   158.086998    36.967358   126.737251\n",
              "max    2996.770020   186.570496    60.296108   181.511703"
            ],
            "text/html": [
              "\n",
              "  <div id=\"df-4d0f3f7c-86e6-452f-ba7d-269eeb642fd6\">\n",
              "    <div class=\"colab-df-container\">\n",
              "      <div>\n",
              "<style scoped>\n",
              "    .dataframe tbody tr th:only-of-type {\n",
              "        vertical-align: middle;\n",
              "    }\n",
              "\n",
              "    .dataframe tbody tr th {\n",
              "        vertical-align: top;\n",
              "    }\n",
              "\n",
              "    .dataframe thead th {\n",
              "        text-align: right;\n",
              "    }\n",
              "</style>\n",
              "<table border=\"1\" class=\"dataframe\">\n",
              "  <thead>\n",
              "    <tr style=\"text-align: right;\">\n",
              "      <th></th>\n",
              "      <th>GOOGL</th>\n",
              "      <th>AMZN</th>\n",
              "      <th>PFE</th>\n",
              "      <th>AAPL</th>\n",
              "    </tr>\n",
              "  </thead>\n",
              "  <tbody>\n",
              "    <tr>\n",
              "      <th>count</th>\n",
              "      <td>1259.000000</td>\n",
              "      <td>1259.000000</td>\n",
              "      <td>1259.000000</td>\n",
              "      <td>1259.000000</td>\n",
              "    </tr>\n",
              "    <tr>\n",
              "      <th>mean</th>\n",
              "      <td>1589.186958</td>\n",
              "      <td>112.871398</td>\n",
              "      <td>35.417587</td>\n",
              "      <td>84.423397</td>\n",
              "    </tr>\n",
              "    <tr>\n",
              "      <th>std</th>\n",
              "      <td>634.909837</td>\n",
              "      <td>41.375810</td>\n",
              "      <td>7.229971</td>\n",
              "      <td>45.983800</td>\n",
              "    </tr>\n",
              "    <tr>\n",
              "      <th>min</th>\n",
              "      <td>919.460022</td>\n",
              "      <td>46.930000</td>\n",
              "      <td>24.853760</td>\n",
              "      <td>33.670555</td>\n",
              "    </tr>\n",
              "    <tr>\n",
              "      <th>25%</th>\n",
              "      <td>1109.775024</td>\n",
              "      <td>82.955750</td>\n",
              "      <td>29.956088</td>\n",
              "      <td>44.233175</td>\n",
              "    </tr>\n",
              "    <tr>\n",
              "      <th>50%</th>\n",
              "      <td>1265.229980</td>\n",
              "      <td>95.622498</td>\n",
              "      <td>33.910912</td>\n",
              "      <td>63.907669</td>\n",
              "    </tr>\n",
              "    <tr>\n",
              "      <th>75%</th>\n",
              "      <td>2063.500000</td>\n",
              "      <td>158.086998</td>\n",
              "      <td>36.967358</td>\n",
              "      <td>126.737251</td>\n",
              "    </tr>\n",
              "    <tr>\n",
              "      <th>max</th>\n",
              "      <td>2996.770020</td>\n",
              "      <td>186.570496</td>\n",
              "      <td>60.296108</td>\n",
              "      <td>181.511703</td>\n",
              "    </tr>\n",
              "  </tbody>\n",
              "</table>\n",
              "</div>\n",
              "      <button class=\"colab-df-convert\" onclick=\"convertToInteractive('df-4d0f3f7c-86e6-452f-ba7d-269eeb642fd6')\"\n",
              "              title=\"Convert this dataframe to an interactive table.\"\n",
              "              style=\"display:none;\">\n",
              "        \n",
              "  <svg xmlns=\"http://www.w3.org/2000/svg\" height=\"24px\"viewBox=\"0 0 24 24\"\n",
              "       width=\"24px\">\n",
              "    <path d=\"M0 0h24v24H0V0z\" fill=\"none\"/>\n",
              "    <path d=\"M18.56 5.44l.94 2.06.94-2.06 2.06-.94-2.06-.94-.94-2.06-.94 2.06-2.06.94zm-11 1L8.5 8.5l.94-2.06 2.06-.94-2.06-.94L8.5 2.5l-.94 2.06-2.06.94zm10 10l.94 2.06.94-2.06 2.06-.94-2.06-.94-.94-2.06-.94 2.06-2.06.94z\"/><path d=\"M17.41 7.96l-1.37-1.37c-.4-.4-.92-.59-1.43-.59-.52 0-1.04.2-1.43.59L10.3 9.45l-7.72 7.72c-.78.78-.78 2.05 0 2.83L4 21.41c.39.39.9.59 1.41.59.51 0 1.02-.2 1.41-.59l7.78-7.78 2.81-2.81c.8-.78.8-2.07 0-2.86zM5.41 20L4 18.59l7.72-7.72 1.47 1.35L5.41 20z\"/>\n",
              "  </svg>\n",
              "      </button>\n",
              "      \n",
              "  <style>\n",
              "    .colab-df-container {\n",
              "      display:flex;\n",
              "      flex-wrap:wrap;\n",
              "      gap: 12px;\n",
              "    }\n",
              "\n",
              "    .colab-df-convert {\n",
              "      background-color: #E8F0FE;\n",
              "      border: none;\n",
              "      border-radius: 50%;\n",
              "      cursor: pointer;\n",
              "      display: none;\n",
              "      fill: #1967D2;\n",
              "      height: 32px;\n",
              "      padding: 0 0 0 0;\n",
              "      width: 32px;\n",
              "    }\n",
              "\n",
              "    .colab-df-convert:hover {\n",
              "      background-color: #E2EBFA;\n",
              "      box-shadow: 0px 1px 2px rgba(60, 64, 67, 0.3), 0px 1px 3px 1px rgba(60, 64, 67, 0.15);\n",
              "      fill: #174EA6;\n",
              "    }\n",
              "\n",
              "    [theme=dark] .colab-df-convert {\n",
              "      background-color: #3B4455;\n",
              "      fill: #D2E3FC;\n",
              "    }\n",
              "\n",
              "    [theme=dark] .colab-df-convert:hover {\n",
              "      background-color: #434B5C;\n",
              "      box-shadow: 0px 1px 3px 1px rgba(0, 0, 0, 0.15);\n",
              "      filter: drop-shadow(0px 1px 2px rgba(0, 0, 0, 0.3));\n",
              "      fill: #FFFFFF;\n",
              "    }\n",
              "  </style>\n",
              "\n",
              "      <script>\n",
              "        const buttonEl =\n",
              "          document.querySelector('#df-4d0f3f7c-86e6-452f-ba7d-269eeb642fd6 button.colab-df-convert');\n",
              "        buttonEl.style.display =\n",
              "          google.colab.kernel.accessAllowed ? 'block' : 'none';\n",
              "\n",
              "        async function convertToInteractive(key) {\n",
              "          const element = document.querySelector('#df-4d0f3f7c-86e6-452f-ba7d-269eeb642fd6');\n",
              "          const dataTable =\n",
              "            await google.colab.kernel.invokeFunction('convertToInteractive',\n",
              "                                                     [key], {});\n",
              "          if (!dataTable) return;\n",
              "\n",
              "          const docLinkHtml = 'Like what you see? Visit the ' +\n",
              "            '<a target=\"_blank\" href=https://colab.research.google.com/notebooks/data_table.ipynb>data table notebook</a>'\n",
              "            + ' to learn more about interactive tables.';\n",
              "          element.innerHTML = '';\n",
              "          dataTable['output_type'] = 'display_data';\n",
              "          await google.colab.output.renderOutput(dataTable, element);\n",
              "          const docLink = document.createElement('div');\n",
              "          docLink.innerHTML = docLinkHtml;\n",
              "          element.appendChild(docLink);\n",
              "        }\n",
              "      </script>\n",
              "    </div>\n",
              "  </div>\n",
              "  "
            ]
          },
          "metadata": {},
          "execution_count": 11
        }
      ]
    },
    {
      "cell_type": "markdown",
      "source": [
        "**COVARIANCE MATRIX**"
      ],
      "metadata": {
        "id": "UVx9Ad4UDY3b"
      }
    },
    {
      "cell_type": "code",
      "source": [
        "# Calculate log returns\n",
        "log_returns = np.log(portfolio).diff().dropna()\n",
        "log_returns"
      ],
      "metadata": {
        "colab": {
          "base_uri": "https://localhost:8080/",
          "height": 455
        },
        "id": "wgNndh-8Cc0W",
        "outputId": "9879e63f-ecc8-4dd9-f8c5-146bd4d0b2f1"
      },
      "execution_count": 12,
      "outputs": [
        {
          "output_type": "execute_result",
          "data": {
            "text/plain": [
              "               GOOGL      AMZN       PFE      AAPL\n",
              "Date                                              \n",
              "2017-06-08  0.002772  0.000198 -0.007843 -0.002449\n",
              "2017-06-09 -0.034606 -0.032146  0.031620 -0.039548\n",
              "2017-06-12 -0.008603 -0.013792 -0.002138 -0.024186\n",
              "2017-06-13  0.008994  0.016324 -0.003676  0.008013\n",
              "2017-06-14 -0.002652 -0.004414  0.003371 -0.009803\n",
              "...              ...       ...       ...       ...\n",
              "2022-05-31  0.012788  0.043031 -0.016270 -0.005361\n",
              "2022-06-01  0.001142  0.012191 -0.012712 -0.000874\n",
              "2022-06-02  0.032230  0.030966  0.005902  0.016671\n",
              "2022-06-03 -0.026547 -0.025508  0.009823 -0.039319\n",
              "2022-06-06  0.019706  0.019747  0.001127  0.005214\n",
              "\n",
              "[1258 rows x 4 columns]"
            ],
            "text/html": [
              "\n",
              "  <div id=\"df-ae606d98-ccbb-4526-8203-70e4c9705a6a\">\n",
              "    <div class=\"colab-df-container\">\n",
              "      <div>\n",
              "<style scoped>\n",
              "    .dataframe tbody tr th:only-of-type {\n",
              "        vertical-align: middle;\n",
              "    }\n",
              "\n",
              "    .dataframe tbody tr th {\n",
              "        vertical-align: top;\n",
              "    }\n",
              "\n",
              "    .dataframe thead th {\n",
              "        text-align: right;\n",
              "    }\n",
              "</style>\n",
              "<table border=\"1\" class=\"dataframe\">\n",
              "  <thead>\n",
              "    <tr style=\"text-align: right;\">\n",
              "      <th></th>\n",
              "      <th>GOOGL</th>\n",
              "      <th>AMZN</th>\n",
              "      <th>PFE</th>\n",
              "      <th>AAPL</th>\n",
              "    </tr>\n",
              "    <tr>\n",
              "      <th>Date</th>\n",
              "      <th></th>\n",
              "      <th></th>\n",
              "      <th></th>\n",
              "      <th></th>\n",
              "    </tr>\n",
              "  </thead>\n",
              "  <tbody>\n",
              "    <tr>\n",
              "      <th>2017-06-08</th>\n",
              "      <td>0.002772</td>\n",
              "      <td>0.000198</td>\n",
              "      <td>-0.007843</td>\n",
              "      <td>-0.002449</td>\n",
              "    </tr>\n",
              "    <tr>\n",
              "      <th>2017-06-09</th>\n",
              "      <td>-0.034606</td>\n",
              "      <td>-0.032146</td>\n",
              "      <td>0.031620</td>\n",
              "      <td>-0.039548</td>\n",
              "    </tr>\n",
              "    <tr>\n",
              "      <th>2017-06-12</th>\n",
              "      <td>-0.008603</td>\n",
              "      <td>-0.013792</td>\n",
              "      <td>-0.002138</td>\n",
              "      <td>-0.024186</td>\n",
              "    </tr>\n",
              "    <tr>\n",
              "      <th>2017-06-13</th>\n",
              "      <td>0.008994</td>\n",
              "      <td>0.016324</td>\n",
              "      <td>-0.003676</td>\n",
              "      <td>0.008013</td>\n",
              "    </tr>\n",
              "    <tr>\n",
              "      <th>2017-06-14</th>\n",
              "      <td>-0.002652</td>\n",
              "      <td>-0.004414</td>\n",
              "      <td>0.003371</td>\n",
              "      <td>-0.009803</td>\n",
              "    </tr>\n",
              "    <tr>\n",
              "      <th>...</th>\n",
              "      <td>...</td>\n",
              "      <td>...</td>\n",
              "      <td>...</td>\n",
              "      <td>...</td>\n",
              "    </tr>\n",
              "    <tr>\n",
              "      <th>2022-05-31</th>\n",
              "      <td>0.012788</td>\n",
              "      <td>0.043031</td>\n",
              "      <td>-0.016270</td>\n",
              "      <td>-0.005361</td>\n",
              "    </tr>\n",
              "    <tr>\n",
              "      <th>2022-06-01</th>\n",
              "      <td>0.001142</td>\n",
              "      <td>0.012191</td>\n",
              "      <td>-0.012712</td>\n",
              "      <td>-0.000874</td>\n",
              "    </tr>\n",
              "    <tr>\n",
              "      <th>2022-06-02</th>\n",
              "      <td>0.032230</td>\n",
              "      <td>0.030966</td>\n",
              "      <td>0.005902</td>\n",
              "      <td>0.016671</td>\n",
              "    </tr>\n",
              "    <tr>\n",
              "      <th>2022-06-03</th>\n",
              "      <td>-0.026547</td>\n",
              "      <td>-0.025508</td>\n",
              "      <td>0.009823</td>\n",
              "      <td>-0.039319</td>\n",
              "    </tr>\n",
              "    <tr>\n",
              "      <th>2022-06-06</th>\n",
              "      <td>0.019706</td>\n",
              "      <td>0.019747</td>\n",
              "      <td>0.001127</td>\n",
              "      <td>0.005214</td>\n",
              "    </tr>\n",
              "  </tbody>\n",
              "</table>\n",
              "<p>1258 rows × 4 columns</p>\n",
              "</div>\n",
              "      <button class=\"colab-df-convert\" onclick=\"convertToInteractive('df-ae606d98-ccbb-4526-8203-70e4c9705a6a')\"\n",
              "              title=\"Convert this dataframe to an interactive table.\"\n",
              "              style=\"display:none;\">\n",
              "        \n",
              "  <svg xmlns=\"http://www.w3.org/2000/svg\" height=\"24px\"viewBox=\"0 0 24 24\"\n",
              "       width=\"24px\">\n",
              "    <path d=\"M0 0h24v24H0V0z\" fill=\"none\"/>\n",
              "    <path d=\"M18.56 5.44l.94 2.06.94-2.06 2.06-.94-2.06-.94-.94-2.06-.94 2.06-2.06.94zm-11 1L8.5 8.5l.94-2.06 2.06-.94-2.06-.94L8.5 2.5l-.94 2.06-2.06.94zm10 10l.94 2.06.94-2.06 2.06-.94-2.06-.94-.94-2.06-.94 2.06-2.06.94z\"/><path d=\"M17.41 7.96l-1.37-1.37c-.4-.4-.92-.59-1.43-.59-.52 0-1.04.2-1.43.59L10.3 9.45l-7.72 7.72c-.78.78-.78 2.05 0 2.83L4 21.41c.39.39.9.59 1.41.59.51 0 1.02-.2 1.41-.59l7.78-7.78 2.81-2.81c.8-.78.8-2.07 0-2.86zM5.41 20L4 18.59l7.72-7.72 1.47 1.35L5.41 20z\"/>\n",
              "  </svg>\n",
              "      </button>\n",
              "      \n",
              "  <style>\n",
              "    .colab-df-container {\n",
              "      display:flex;\n",
              "      flex-wrap:wrap;\n",
              "      gap: 12px;\n",
              "    }\n",
              "\n",
              "    .colab-df-convert {\n",
              "      background-color: #E8F0FE;\n",
              "      border: none;\n",
              "      border-radius: 50%;\n",
              "      cursor: pointer;\n",
              "      display: none;\n",
              "      fill: #1967D2;\n",
              "      height: 32px;\n",
              "      padding: 0 0 0 0;\n",
              "      width: 32px;\n",
              "    }\n",
              "\n",
              "    .colab-df-convert:hover {\n",
              "      background-color: #E2EBFA;\n",
              "      box-shadow: 0px 1px 2px rgba(60, 64, 67, 0.3), 0px 1px 3px 1px rgba(60, 64, 67, 0.15);\n",
              "      fill: #174EA6;\n",
              "    }\n",
              "\n",
              "    [theme=dark] .colab-df-convert {\n",
              "      background-color: #3B4455;\n",
              "      fill: #D2E3FC;\n",
              "    }\n",
              "\n",
              "    [theme=dark] .colab-df-convert:hover {\n",
              "      background-color: #434B5C;\n",
              "      box-shadow: 0px 1px 3px 1px rgba(0, 0, 0, 0.15);\n",
              "      filter: drop-shadow(0px 1px 2px rgba(0, 0, 0, 0.3));\n",
              "      fill: #FFFFFF;\n",
              "    }\n",
              "  </style>\n",
              "\n",
              "      <script>\n",
              "        const buttonEl =\n",
              "          document.querySelector('#df-ae606d98-ccbb-4526-8203-70e4c9705a6a button.colab-df-convert');\n",
              "        buttonEl.style.display =\n",
              "          google.colab.kernel.accessAllowed ? 'block' : 'none';\n",
              "\n",
              "        async function convertToInteractive(key) {\n",
              "          const element = document.querySelector('#df-ae606d98-ccbb-4526-8203-70e4c9705a6a');\n",
              "          const dataTable =\n",
              "            await google.colab.kernel.invokeFunction('convertToInteractive',\n",
              "                                                     [key], {});\n",
              "          if (!dataTable) return;\n",
              "\n",
              "          const docLinkHtml = 'Like what you see? Visit the ' +\n",
              "            '<a target=\"_blank\" href=https://colab.research.google.com/notebooks/data_table.ipynb>data table notebook</a>'\n",
              "            + ' to learn more about interactive tables.';\n",
              "          element.innerHTML = '';\n",
              "          dataTable['output_type'] = 'display_data';\n",
              "          await google.colab.output.renderOutput(dataTable, element);\n",
              "          const docLink = document.createElement('div');\n",
              "          docLink.innerHTML = docLinkHtml;\n",
              "          element.appendChild(docLink);\n",
              "        }\n",
              "      </script>\n",
              "    </div>\n",
              "  </div>\n",
              "  "
            ]
          },
          "metadata": {},
          "execution_count": 12
        }
      ]
    },
    {
      "cell_type": "code",
      "source": [
        "# Calculate covariance matrix\n",
        "cov_matrix = log_returns.cov()\n",
        "cov_matrix"
      ],
      "metadata": {
        "colab": {
          "base_uri": "https://localhost:8080/",
          "height": 175
        },
        "id": "n8rEj7OtDPMj",
        "outputId": "e852ba5c-a34d-43c6-9abc-ab2274c328f1"
      },
      "execution_count": 13,
      "outputs": [
        {
          "output_type": "execute_result",
          "data": {
            "text/plain": [
              "          GOOGL      AMZN       PFE      AAPL\n",
              "GOOGL  0.000333  0.000254  0.000095  0.000251\n",
              "AMZN   0.000254  0.000433  0.000072  0.000266\n",
              "PFE    0.000095  0.000072  0.000248  0.000102\n",
              "AAPL   0.000251  0.000266  0.000102  0.000403"
            ],
            "text/html": [
              "\n",
              "  <div id=\"df-073698a7-a686-44bf-9845-db00f4ec4ac0\">\n",
              "    <div class=\"colab-df-container\">\n",
              "      <div>\n",
              "<style scoped>\n",
              "    .dataframe tbody tr th:only-of-type {\n",
              "        vertical-align: middle;\n",
              "    }\n",
              "\n",
              "    .dataframe tbody tr th {\n",
              "        vertical-align: top;\n",
              "    }\n",
              "\n",
              "    .dataframe thead th {\n",
              "        text-align: right;\n",
              "    }\n",
              "</style>\n",
              "<table border=\"1\" class=\"dataframe\">\n",
              "  <thead>\n",
              "    <tr style=\"text-align: right;\">\n",
              "      <th></th>\n",
              "      <th>GOOGL</th>\n",
              "      <th>AMZN</th>\n",
              "      <th>PFE</th>\n",
              "      <th>AAPL</th>\n",
              "    </tr>\n",
              "  </thead>\n",
              "  <tbody>\n",
              "    <tr>\n",
              "      <th>GOOGL</th>\n",
              "      <td>0.000333</td>\n",
              "      <td>0.000254</td>\n",
              "      <td>0.000095</td>\n",
              "      <td>0.000251</td>\n",
              "    </tr>\n",
              "    <tr>\n",
              "      <th>AMZN</th>\n",
              "      <td>0.000254</td>\n",
              "      <td>0.000433</td>\n",
              "      <td>0.000072</td>\n",
              "      <td>0.000266</td>\n",
              "    </tr>\n",
              "    <tr>\n",
              "      <th>PFE</th>\n",
              "      <td>0.000095</td>\n",
              "      <td>0.000072</td>\n",
              "      <td>0.000248</td>\n",
              "      <td>0.000102</td>\n",
              "    </tr>\n",
              "    <tr>\n",
              "      <th>AAPL</th>\n",
              "      <td>0.000251</td>\n",
              "      <td>0.000266</td>\n",
              "      <td>0.000102</td>\n",
              "      <td>0.000403</td>\n",
              "    </tr>\n",
              "  </tbody>\n",
              "</table>\n",
              "</div>\n",
              "      <button class=\"colab-df-convert\" onclick=\"convertToInteractive('df-073698a7-a686-44bf-9845-db00f4ec4ac0')\"\n",
              "              title=\"Convert this dataframe to an interactive table.\"\n",
              "              style=\"display:none;\">\n",
              "        \n",
              "  <svg xmlns=\"http://www.w3.org/2000/svg\" height=\"24px\"viewBox=\"0 0 24 24\"\n",
              "       width=\"24px\">\n",
              "    <path d=\"M0 0h24v24H0V0z\" fill=\"none\"/>\n",
              "    <path d=\"M18.56 5.44l.94 2.06.94-2.06 2.06-.94-2.06-.94-.94-2.06-.94 2.06-2.06.94zm-11 1L8.5 8.5l.94-2.06 2.06-.94-2.06-.94L8.5 2.5l-.94 2.06-2.06.94zm10 10l.94 2.06.94-2.06 2.06-.94-2.06-.94-.94-2.06-.94 2.06-2.06.94z\"/><path d=\"M17.41 7.96l-1.37-1.37c-.4-.4-.92-.59-1.43-.59-.52 0-1.04.2-1.43.59L10.3 9.45l-7.72 7.72c-.78.78-.78 2.05 0 2.83L4 21.41c.39.39.9.59 1.41.59.51 0 1.02-.2 1.41-.59l7.78-7.78 2.81-2.81c.8-.78.8-2.07 0-2.86zM5.41 20L4 18.59l7.72-7.72 1.47 1.35L5.41 20z\"/>\n",
              "  </svg>\n",
              "      </button>\n",
              "      \n",
              "  <style>\n",
              "    .colab-df-container {\n",
              "      display:flex;\n",
              "      flex-wrap:wrap;\n",
              "      gap: 12px;\n",
              "    }\n",
              "\n",
              "    .colab-df-convert {\n",
              "      background-color: #E8F0FE;\n",
              "      border: none;\n",
              "      border-radius: 50%;\n",
              "      cursor: pointer;\n",
              "      display: none;\n",
              "      fill: #1967D2;\n",
              "      height: 32px;\n",
              "      padding: 0 0 0 0;\n",
              "      width: 32px;\n",
              "    }\n",
              "\n",
              "    .colab-df-convert:hover {\n",
              "      background-color: #E2EBFA;\n",
              "      box-shadow: 0px 1px 2px rgba(60, 64, 67, 0.3), 0px 1px 3px 1px rgba(60, 64, 67, 0.15);\n",
              "      fill: #174EA6;\n",
              "    }\n",
              "\n",
              "    [theme=dark] .colab-df-convert {\n",
              "      background-color: #3B4455;\n",
              "      fill: #D2E3FC;\n",
              "    }\n",
              "\n",
              "    [theme=dark] .colab-df-convert:hover {\n",
              "      background-color: #434B5C;\n",
              "      box-shadow: 0px 1px 3px 1px rgba(0, 0, 0, 0.15);\n",
              "      filter: drop-shadow(0px 1px 2px rgba(0, 0, 0, 0.3));\n",
              "      fill: #FFFFFF;\n",
              "    }\n",
              "  </style>\n",
              "\n",
              "      <script>\n",
              "        const buttonEl =\n",
              "          document.querySelector('#df-073698a7-a686-44bf-9845-db00f4ec4ac0 button.colab-df-convert');\n",
              "        buttonEl.style.display =\n",
              "          google.colab.kernel.accessAllowed ? 'block' : 'none';\n",
              "\n",
              "        async function convertToInteractive(key) {\n",
              "          const element = document.querySelector('#df-073698a7-a686-44bf-9845-db00f4ec4ac0');\n",
              "          const dataTable =\n",
              "            await google.colab.kernel.invokeFunction('convertToInteractive',\n",
              "                                                     [key], {});\n",
              "          if (!dataTable) return;\n",
              "\n",
              "          const docLinkHtml = 'Like what you see? Visit the ' +\n",
              "            '<a target=\"_blank\" href=https://colab.research.google.com/notebooks/data_table.ipynb>data table notebook</a>'\n",
              "            + ' to learn more about interactive tables.';\n",
              "          element.innerHTML = '';\n",
              "          dataTable['output_type'] = 'display_data';\n",
              "          await google.colab.output.renderOutput(dataTable, element);\n",
              "          const docLink = document.createElement('div');\n",
              "          docLink.innerHTML = docLinkHtml;\n",
              "          element.appendChild(docLink);\n",
              "        }\n",
              "      </script>\n",
              "    </div>\n",
              "  </div>\n",
              "  "
            ]
          },
          "metadata": {},
          "execution_count": 13
        }
      ]
    },
    {
      "cell_type": "code",
      "source": [
        "avg_returns=log_returns.mean()\n",
        "avg_returns = pd.DataFrame(avg_returns)\n",
        "avg_returns.columns = ['average 5 year returns']"
      ],
      "metadata": {
        "id": "ga5GncN6Dst3"
      },
      "execution_count": 14,
      "outputs": []
    },
    {
      "cell_type": "markdown",
      "source": [
        "# **ALPHA AND BETA**"
      ],
      "metadata": {
        "id": "hgHPcJznzQw7"
      }
    },
    {
      "cell_type": "code",
      "source": [
        "# alpha compares the returns to a benchmark index such as S&P 500\n",
        "# positive means outperformed, negative means underperform\n",
        "\n",
        "# beta measures volatility compared to benchmark index\n",
        "# the higher the beta the more volatile your stock"
      ],
      "metadata": {
        "id": "rG6GnLrc98Be"
      },
      "execution_count": 15,
      "outputs": []
    },
    {
      "cell_type": "code",
      "source": [
        "# Import S&P500 index(^GSPC)\n",
        "m  = yf.Ticker('^GSPC')\n",
        "m = m.history(period ='5y') # Market index\n",
        "m = pd.DataFrame(m)\n",
        "portfolio_m = pd.merge(m['Close'],portfolio, how = 'outer', on = 'Date')\n",
        "portfolio_m.rename(columns = {'Close':'Index:^GSPC'}, inplace = True)\n",
        "portfolio_m_log = np.log(portfolio_m).diff().dropna()"
      ],
      "metadata": {
        "id": "1FZBtDoGXuZI"
      },
      "execution_count": 16,
      "outputs": []
    },
    {
      "cell_type": "code",
      "source": [
        "portfolio_m_log"
      ],
      "metadata": {
        "colab": {
          "base_uri": "https://localhost:8080/",
          "height": 455
        },
        "id": "UWiKsdANxh1v",
        "outputId": "664993fb-36df-41f2-af18-fb845795844f"
      },
      "execution_count": 17,
      "outputs": [
        {
          "output_type": "execute_result",
          "data": {
            "text/plain": [
              "            Index:^GSPC     GOOGL      AMZN       PFE      AAPL\n",
              "Date                                                           \n",
              "2017-06-08     0.000267  0.002772  0.000198 -0.007843 -0.002449\n",
              "2017-06-09    -0.000830 -0.034606 -0.032146  0.031620 -0.039548\n",
              "2017-06-12    -0.000979 -0.008603 -0.013792 -0.002138 -0.024186\n",
              "2017-06-13     0.004501  0.008994  0.016324 -0.003676  0.008013\n",
              "2017-06-14    -0.000996 -0.002652 -0.004414  0.003371 -0.009803\n",
              "...                 ...       ...       ...       ...       ...\n",
              "2022-05-31    -0.006294  0.012788  0.043031 -0.016270 -0.005361\n",
              "2022-06-01    -0.007511  0.001142  0.012191 -0.012712 -0.000874\n",
              "2022-06-02     0.018263  0.032230  0.030966  0.005902  0.016671\n",
              "2022-06-03    -0.016482 -0.026547 -0.025508  0.009823 -0.039319\n",
              "2022-06-06     0.003132  0.019706  0.019747  0.001127  0.005214\n",
              "\n",
              "[1258 rows x 5 columns]"
            ],
            "text/html": [
              "\n",
              "  <div id=\"df-019ea08e-cb9a-4a5d-ba72-fd8eac9e7bd5\">\n",
              "    <div class=\"colab-df-container\">\n",
              "      <div>\n",
              "<style scoped>\n",
              "    .dataframe tbody tr th:only-of-type {\n",
              "        vertical-align: middle;\n",
              "    }\n",
              "\n",
              "    .dataframe tbody tr th {\n",
              "        vertical-align: top;\n",
              "    }\n",
              "\n",
              "    .dataframe thead th {\n",
              "        text-align: right;\n",
              "    }\n",
              "</style>\n",
              "<table border=\"1\" class=\"dataframe\">\n",
              "  <thead>\n",
              "    <tr style=\"text-align: right;\">\n",
              "      <th></th>\n",
              "      <th>Index:^GSPC</th>\n",
              "      <th>GOOGL</th>\n",
              "      <th>AMZN</th>\n",
              "      <th>PFE</th>\n",
              "      <th>AAPL</th>\n",
              "    </tr>\n",
              "    <tr>\n",
              "      <th>Date</th>\n",
              "      <th></th>\n",
              "      <th></th>\n",
              "      <th></th>\n",
              "      <th></th>\n",
              "      <th></th>\n",
              "    </tr>\n",
              "  </thead>\n",
              "  <tbody>\n",
              "    <tr>\n",
              "      <th>2017-06-08</th>\n",
              "      <td>0.000267</td>\n",
              "      <td>0.002772</td>\n",
              "      <td>0.000198</td>\n",
              "      <td>-0.007843</td>\n",
              "      <td>-0.002449</td>\n",
              "    </tr>\n",
              "    <tr>\n",
              "      <th>2017-06-09</th>\n",
              "      <td>-0.000830</td>\n",
              "      <td>-0.034606</td>\n",
              "      <td>-0.032146</td>\n",
              "      <td>0.031620</td>\n",
              "      <td>-0.039548</td>\n",
              "    </tr>\n",
              "    <tr>\n",
              "      <th>2017-06-12</th>\n",
              "      <td>-0.000979</td>\n",
              "      <td>-0.008603</td>\n",
              "      <td>-0.013792</td>\n",
              "      <td>-0.002138</td>\n",
              "      <td>-0.024186</td>\n",
              "    </tr>\n",
              "    <tr>\n",
              "      <th>2017-06-13</th>\n",
              "      <td>0.004501</td>\n",
              "      <td>0.008994</td>\n",
              "      <td>0.016324</td>\n",
              "      <td>-0.003676</td>\n",
              "      <td>0.008013</td>\n",
              "    </tr>\n",
              "    <tr>\n",
              "      <th>2017-06-14</th>\n",
              "      <td>-0.000996</td>\n",
              "      <td>-0.002652</td>\n",
              "      <td>-0.004414</td>\n",
              "      <td>0.003371</td>\n",
              "      <td>-0.009803</td>\n",
              "    </tr>\n",
              "    <tr>\n",
              "      <th>...</th>\n",
              "      <td>...</td>\n",
              "      <td>...</td>\n",
              "      <td>...</td>\n",
              "      <td>...</td>\n",
              "      <td>...</td>\n",
              "    </tr>\n",
              "    <tr>\n",
              "      <th>2022-05-31</th>\n",
              "      <td>-0.006294</td>\n",
              "      <td>0.012788</td>\n",
              "      <td>0.043031</td>\n",
              "      <td>-0.016270</td>\n",
              "      <td>-0.005361</td>\n",
              "    </tr>\n",
              "    <tr>\n",
              "      <th>2022-06-01</th>\n",
              "      <td>-0.007511</td>\n",
              "      <td>0.001142</td>\n",
              "      <td>0.012191</td>\n",
              "      <td>-0.012712</td>\n",
              "      <td>-0.000874</td>\n",
              "    </tr>\n",
              "    <tr>\n",
              "      <th>2022-06-02</th>\n",
              "      <td>0.018263</td>\n",
              "      <td>0.032230</td>\n",
              "      <td>0.030966</td>\n",
              "      <td>0.005902</td>\n",
              "      <td>0.016671</td>\n",
              "    </tr>\n",
              "    <tr>\n",
              "      <th>2022-06-03</th>\n",
              "      <td>-0.016482</td>\n",
              "      <td>-0.026547</td>\n",
              "      <td>-0.025508</td>\n",
              "      <td>0.009823</td>\n",
              "      <td>-0.039319</td>\n",
              "    </tr>\n",
              "    <tr>\n",
              "      <th>2022-06-06</th>\n",
              "      <td>0.003132</td>\n",
              "      <td>0.019706</td>\n",
              "      <td>0.019747</td>\n",
              "      <td>0.001127</td>\n",
              "      <td>0.005214</td>\n",
              "    </tr>\n",
              "  </tbody>\n",
              "</table>\n",
              "<p>1258 rows × 5 columns</p>\n",
              "</div>\n",
              "      <button class=\"colab-df-convert\" onclick=\"convertToInteractive('df-019ea08e-cb9a-4a5d-ba72-fd8eac9e7bd5')\"\n",
              "              title=\"Convert this dataframe to an interactive table.\"\n",
              "              style=\"display:none;\">\n",
              "        \n",
              "  <svg xmlns=\"http://www.w3.org/2000/svg\" height=\"24px\"viewBox=\"0 0 24 24\"\n",
              "       width=\"24px\">\n",
              "    <path d=\"M0 0h24v24H0V0z\" fill=\"none\"/>\n",
              "    <path d=\"M18.56 5.44l.94 2.06.94-2.06 2.06-.94-2.06-.94-.94-2.06-.94 2.06-2.06.94zm-11 1L8.5 8.5l.94-2.06 2.06-.94-2.06-.94L8.5 2.5l-.94 2.06-2.06.94zm10 10l.94 2.06.94-2.06 2.06-.94-2.06-.94-.94-2.06-.94 2.06-2.06.94z\"/><path d=\"M17.41 7.96l-1.37-1.37c-.4-.4-.92-.59-1.43-.59-.52 0-1.04.2-1.43.59L10.3 9.45l-7.72 7.72c-.78.78-.78 2.05 0 2.83L4 21.41c.39.39.9.59 1.41.59.51 0 1.02-.2 1.41-.59l7.78-7.78 2.81-2.81c.8-.78.8-2.07 0-2.86zM5.41 20L4 18.59l7.72-7.72 1.47 1.35L5.41 20z\"/>\n",
              "  </svg>\n",
              "      </button>\n",
              "      \n",
              "  <style>\n",
              "    .colab-df-container {\n",
              "      display:flex;\n",
              "      flex-wrap:wrap;\n",
              "      gap: 12px;\n",
              "    }\n",
              "\n",
              "    .colab-df-convert {\n",
              "      background-color: #E8F0FE;\n",
              "      border: none;\n",
              "      border-radius: 50%;\n",
              "      cursor: pointer;\n",
              "      display: none;\n",
              "      fill: #1967D2;\n",
              "      height: 32px;\n",
              "      padding: 0 0 0 0;\n",
              "      width: 32px;\n",
              "    }\n",
              "\n",
              "    .colab-df-convert:hover {\n",
              "      background-color: #E2EBFA;\n",
              "      box-shadow: 0px 1px 2px rgba(60, 64, 67, 0.3), 0px 1px 3px 1px rgba(60, 64, 67, 0.15);\n",
              "      fill: #174EA6;\n",
              "    }\n",
              "\n",
              "    [theme=dark] .colab-df-convert {\n",
              "      background-color: #3B4455;\n",
              "      fill: #D2E3FC;\n",
              "    }\n",
              "\n",
              "    [theme=dark] .colab-df-convert:hover {\n",
              "      background-color: #434B5C;\n",
              "      box-shadow: 0px 1px 3px 1px rgba(0, 0, 0, 0.15);\n",
              "      filter: drop-shadow(0px 1px 2px rgba(0, 0, 0, 0.3));\n",
              "      fill: #FFFFFF;\n",
              "    }\n",
              "  </style>\n",
              "\n",
              "      <script>\n",
              "        const buttonEl =\n",
              "          document.querySelector('#df-019ea08e-cb9a-4a5d-ba72-fd8eac9e7bd5 button.colab-df-convert');\n",
              "        buttonEl.style.display =\n",
              "          google.colab.kernel.accessAllowed ? 'block' : 'none';\n",
              "\n",
              "        async function convertToInteractive(key) {\n",
              "          const element = document.querySelector('#df-019ea08e-cb9a-4a5d-ba72-fd8eac9e7bd5');\n",
              "          const dataTable =\n",
              "            await google.colab.kernel.invokeFunction('convertToInteractive',\n",
              "                                                     [key], {});\n",
              "          if (!dataTable) return;\n",
              "\n",
              "          const docLinkHtml = 'Like what you see? Visit the ' +\n",
              "            '<a target=\"_blank\" href=https://colab.research.google.com/notebooks/data_table.ipynb>data table notebook</a>'\n",
              "            + ' to learn more about interactive tables.';\n",
              "          element.innerHTML = '';\n",
              "          dataTable['output_type'] = 'display_data';\n",
              "          await google.colab.output.renderOutput(dataTable, element);\n",
              "          const docLink = document.createElement('div');\n",
              "          docLink.innerHTML = docLinkHtml;\n",
              "          element.appendChild(docLink);\n",
              "        }\n",
              "      </script>\n",
              "    </div>\n",
              "  </div>\n",
              "  "
            ]
          },
          "metadata": {},
          "execution_count": 17
        }
      ]
    },
    {
      "cell_type": "code",
      "source": [
        "#get mean returns\n",
        "portfolio_m_avg_return = portfolio_m_log.mean()\n",
        "pd.DataFrame(portfolio_m_avg_return)\n",
        "portfolio_m_avg_return.columns = ['Average Portfolio Returns']\n",
        "portfolio_m_avg_return"
      ],
      "metadata": {
        "id": "tMAc1-m7YEL1",
        "colab": {
          "base_uri": "https://localhost:8080/"
        },
        "outputId": "d5bc00d6-aca6-42cb-9c6f-0438417a2086"
      },
      "execution_count": 18,
      "outputs": [
        {
          "output_type": "execute_result",
          "data": {
            "text/plain": [
              "Index:^GSPC    0.000419\n",
              "GOOGL          0.000673\n",
              "AMZN           0.000719\n",
              "PFE            0.000593\n",
              "AAPL           0.001097\n",
              "dtype: float64"
            ]
          },
          "metadata": {},
          "execution_count": 18
        }
      ]
    },
    {
      "cell_type": "code",
      "source": [
        "#CAPM beta coefficient\n",
        "import numpy as np\n",
        "def calc_beta(df):\n",
        "  np_array = df.values\n",
        "  m = np_array[:,0]\n",
        "  beta = [] \n",
        "  for ind, col in enumerate(df):\n",
        "    if ind > 0:\n",
        "      s = np_array[:,ind]\n",
        "      covariance = np.cov(s,m)\n",
        "      beta.append(covariance[0,1]/covariance[1,1])\n",
        "  return pd.Series(beta, portfolio.columns, name = 'Beta')"
      ],
      "metadata": {
        "id": "dnIUSMJkDaIh"
      },
      "execution_count": 19,
      "outputs": []
    },
    {
      "cell_type": "code",
      "source": [
        "calc_beta(portfolio_m_log)"
      ],
      "metadata": {
        "colab": {
          "base_uri": "https://localhost:8080/"
        },
        "id": "sTGECpHxVb7i",
        "outputId": "34f3ba01-0aa5-4321-cb7e-6f34494dba1f"
      },
      "execution_count": 20,
      "outputs": [
        {
          "output_type": "execute_result",
          "data": {
            "text/plain": [
              "GOOGL    1.110289\n",
              "AMZN     1.026582\n",
              "PFE      0.607019\n",
              "AAPL     1.217146\n",
              "Name: Beta, dtype: float64"
            ]
          },
          "metadata": {},
          "execution_count": 20
        }
      ]
    },
    {
      "cell_type": "code",
      "source": [
        "# BETA USING LINEAR REGRESSION\n",
        "from scipy import stats\n",
        "\n",
        "portfolio_m = pd.merge(m['Close'],portfolio, how = 'outer', on = 'Date')\n",
        "portfolio_m.rename(columns = {'Close':'Index'}, inplace = True)\n",
        "\n",
        "def calc_reg_beta(df):\n",
        "  np_array = df.values\n",
        "  m = np_array[:,0]\n",
        "  beta = [] \n",
        "  for ind, col in enumerate(df):\n",
        "    if ind > 0:\n",
        "      s = np_array[:,ind]\n",
        "      beta.append(stats.linregress(m,s)[0]) # use linear regression to find beta\n",
        "  return pd.Series(beta, portfolio.columns, name = 'Beta')\n"
      ],
      "metadata": {
        "id": "4u9TbKPQ7vnh"
      },
      "execution_count": 21,
      "outputs": []
    },
    {
      "cell_type": "code",
      "source": [
        "calc_reg_beta(portfolio_m_log)"
      ],
      "metadata": {
        "colab": {
          "base_uri": "https://localhost:8080/"
        },
        "id": "_NRT4yvc8-vy",
        "outputId": "40f5e0fd-ea8e-4d2d-ed5f-c22e89c8e73a"
      },
      "execution_count": 22,
      "outputs": [
        {
          "output_type": "execute_result",
          "data": {
            "text/plain": [
              "GOOGL    1.110289\n",
              "AMZN     1.026582\n",
              "PFE      0.607019\n",
              "AAPL     1.217146\n",
              "Name: Beta, dtype: float64"
            ]
          },
          "metadata": {},
          "execution_count": 22
        }
      ]
    },
    {
      "cell_type": "code",
      "source": [
        "def matrix_beta(df):\n",
        "  X = df.values[:,[0]]\n",
        "  X = np.concatenate([np.ones_like(X), X], axis=1)  # add column for intercept(values as 1's)\n",
        "  beta = np.linalg.pinv(X.T @ X) @ X.T @ df.values[:,1:] #apply matrix algebra for linear regression closed for solution\n",
        "  return pd.Series(beta[1], df.columns[1:], name='Beta')"
      ],
      "metadata": {
        "id": "KvwqUeo_9dbd"
      },
      "execution_count": 23,
      "outputs": []
    },
    {
      "cell_type": "code",
      "source": [
        "matrix_beta(portfolio_m_log)"
      ],
      "metadata": {
        "colab": {
          "base_uri": "https://localhost:8080/"
        },
        "id": "4W77iyYc-ptk",
        "outputId": "1f284e36-900a-46bc-dd24-5bf6a7caa483"
      },
      "execution_count": 24,
      "outputs": [
        {
          "output_type": "execute_result",
          "data": {
            "text/plain": [
              "GOOGL    1.110289\n",
              "AMZN     1.026582\n",
              "PFE      0.607019\n",
              "AAPL     1.217146\n",
              "Name: Beta, dtype: float64"
            ]
          },
          "metadata": {},
          "execution_count": 24
        }
      ]
    },
    {
      "cell_type": "code",
      "source": [
        "# Get first date of historical value\n",
        "# index/string slicing\n",
        "\n",
        "date = portfolio.index.values[0]  # get first date\n",
        "date = date.astype(str)\n",
        "date = date[:10]\n",
        "print(date)"
      ],
      "metadata": {
        "id": "dNB9mAtOdsVL",
        "colab": {
          "base_uri": "https://localhost:8080/"
        },
        "outputId": "8bb69078-3593-472a-b8c2-78e67986154b"
      },
      "execution_count": 25,
      "outputs": [
        {
          "output_type": "stream",
          "name": "stdout",
          "text": [
            "2017-06-07\n"
          ]
        }
      ]
    },
    {
      "cell_type": "code",
      "source": [
        "# import Risk Free Rate T-Bills 5 years\n",
        "\n",
        "from bs4 import BeautifulSoup\n",
        "import requests\n",
        "\n",
        "html = requests.get('https://home.treasury.gov/resource-center/data-chart-center/interest-rates/TextView?type=daily_treasury_bill_rates&field_tdr_date_value=2017')\n",
        "soup = BeautifulSoup(html.text, \"html.parser\")\n",
        "\n",
        "table = soup.find('table', class_ = 'views-table views-view-table cols-19' )\n",
        "\n",
        "for t in table.find_all('tbody'):\n",
        "  rows = t.find_all('tr')\n",
        "  for row in rows:\n",
        "    date = row.find_all('td',class_= \"views-field views-field-field-tdr-date\")\n",
        "    coupon = row.find_all('td',class_ = 'views-field views-field-field-br-round-b1-close-13wk-2')\n",
        "\n",
        "tbill = date + coupon"
      ],
      "metadata": {
        "id": "vuINWkBe-MU8"
      },
      "execution_count": 26,
      "outputs": []
    },
    {
      "cell_type": "markdown",
      "source": [
        "**SCRAPE TREASURY BILL DATA**"
      ],
      "metadata": {
        "id": "8YAkpRpRvcgn"
      }
    },
    {
      "cell_type": "code",
      "source": [
        "import pandas as pd\n",
        "import requests\n",
        "from bs4 import BeautifulSoup as bs\n",
        "row_data = []\n",
        "year = 2017 \n",
        "while True:\n",
        "  url = 'https://home.treasury.gov/resource-center/data-chart-center/interest-rates/TextView?type=daily_treasury_bill_rates&field_tdr_date_value='+ str(year)\n",
        "  html = requests.get(url)\n",
        "  soup = bs(html.text,'html.parser')\n",
        "  table = soup.find('table', class_ = 'views-table views-view-table cols-19' )\n",
        "    \n",
        "  for row in table.find_all('tr'):\n",
        "    col = row.find_all('td')\n",
        "    col = [ele.text.strip() for ele in col]\n",
        "    row_data.append(col)\n",
        "  \n",
        "  url = 'https://home.treasury.gov/resource-center/data-chart-center/interest-rates/TextView?type=daily_treasury_bill_rates&field_tdr_date_value='\n",
        "  year = year + 1\n",
        "  year = str(year)\n",
        "  url = url + year\n",
        "  year = int(year)\n",
        "\n",
        "  if year == 2023:\n",
        "   break"
      ],
      "metadata": {
        "id": "zr-eCkDlx4Ir"
      },
      "execution_count": 27,
      "outputs": []
    },
    {
      "cell_type": "code",
      "source": [
        "# change url to get each new year. # Implimented into the web scrape cell above\n",
        "# convert to string and revert to int for string addition, and adding respectively\n",
        "year = 2017\n",
        "for y in range(year):\n",
        "  url = 'https://home.treasury.gov/resource-center/data-chart-center/interest-rates/TextView?type=daily_treasury_bill_rates&field_tdr_date_value='\n",
        "  year = year + 1\n",
        "  year = str(year)\n",
        "  url = url + year\n",
        "  year = int(year)\n",
        "  if year == 2022:\n",
        "    break"
      ],
      "metadata": {
        "id": "refqfsz5-UaQ"
      },
      "execution_count": 28,
      "outputs": []
    },
    {
      "cell_type": "code",
      "source": [
        "# Web Scrape Headers\n",
        "header = []\n",
        "for i in soup.find_all('th'):\n",
        "  col_name = i.text.strip().lower().replace(\" \",\"_\")\n",
        "  header.append(col_name)\n",
        "header"
      ],
      "metadata": {
        "colab": {
          "base_uri": "https://localhost:8080/"
        },
        "id": "2T-olIjaKo5v",
        "outputId": "bfa629ef-608a-46a3-8aec-2f244a8bc1a2"
      },
      "execution_count": 29,
      "outputs": [
        {
          "output_type": "execute_result",
          "data": {
            "text/plain": [
              "['date',\n",
              " '20_yr',\n",
              " '30_yr',\n",
              " 'extrapolation_factor',\n",
              " '4_weeks_bank_discount',\n",
              " 'coupon_equivalent',\n",
              " '8_weeks_bank_discount',\n",
              " 'coupon_equivalent',\n",
              " '13_weeks_bank_discount',\n",
              " 'coupon_equivalent',\n",
              " '26_weeks_bank_discount',\n",
              " 'coupon_equivalent',\n",
              " '52_weeks_bank_discount',\n",
              " 'coupon_equivalent',\n",
              " '1_mo',\n",
              " '2_mo',\n",
              " '3_mo',\n",
              " '20_yr',\n",
              " '30_yr']"
            ]
          },
          "metadata": {},
          "execution_count": 29
        }
      ]
    },
    {
      "cell_type": "markdown",
      "source": [
        "**DATA NORMALIZATION/CLEANING**"
      ],
      "metadata": {
        "id": "4B59zklbwEoN"
      }
    },
    {
      "cell_type": "code",
      "source": [
        "# We need only 5 years or 1259 rows of data\n",
        "len(row_data)"
      ],
      "metadata": {
        "colab": {
          "base_uri": "https://localhost:8080/"
        },
        "id": "43R9xtpuKZSr",
        "outputId": "7f0faaae-5a2c-4537-bcc8-481c8c1c4fed"
      },
      "execution_count": 30,
      "outputs": [
        {
          "output_type": "execute_result",
          "data": {
            "text/plain": [
              "1364"
            ]
          },
          "metadata": {},
          "execution_count": 30
        }
      ]
    },
    {
      "cell_type": "code",
      "source": [
        "# convert 13 week tbill rate to float type, and get only last 5 years of data\n",
        "result = pd.DataFrame(row_data, columns = header)\n",
        "tbill = result.iloc[-1259:,[0,9]]\n",
        "tbill['coupon_equivalent'].astype(float)"
      ],
      "metadata": {
        "colab": {
          "base_uri": "https://localhost:8080/"
        },
        "id": "Ob6WLpZuLS8V",
        "outputId": "4ec65cc4-3e8f-4174-f360-492508e9560e"
      },
      "execution_count": 34,
      "outputs": [
        {
          "output_type": "execute_result",
          "data": {
            "text/plain": [
              "105     0.98\n",
              "106     0.97\n",
              "107     0.98\n",
              "108     1.00\n",
              "109     1.01\n",
              "        ... \n",
              "1359    1.15\n",
              "1360    1.14\n",
              "1361    1.15\n",
              "1362    1.19\n",
              "1363    1.25\n",
              "Name: coupon_equivalent, Length: 1259, dtype: float64"
            ]
          },
          "metadata": {},
          "execution_count": 34
        }
      ]
    },
    {
      "cell_type": "code",
      "source": [
        "# find data types\n",
        "tbill.dtypes"
      ],
      "metadata": {
        "colab": {
          "base_uri": "https://localhost:8080/"
        },
        "id": "5tMSgrv8jBIl",
        "outputId": "f81d80a1-fcd1-4409-fcdf-80427f712cb8"
      },
      "execution_count": 36,
      "outputs": [
        {
          "output_type": "execute_result",
          "data": {
            "text/plain": [
              "date                 object\n",
              "coupon_equivalent    object\n",
              "dtype: object"
            ]
          },
          "metadata": {},
          "execution_count": 36
        }
      ]
    },
    {
      "cell_type": "code",
      "source": [
        "#convert coupon_equivalent column to float\n",
        "tbill['coupon_equivalent'] = tbill['coupon_equivalent'].astype(float)\n",
        "tbill.dtypes"
      ],
      "metadata": {
        "colab": {
          "base_uri": "https://localhost:8080/"
        },
        "id": "Ea6nBH0WjGqR",
        "outputId": "5b5482e9-a638-4ce4-c1a6-2b876bf65e18"
      },
      "execution_count": 37,
      "outputs": [
        {
          "output_type": "execute_result",
          "data": {
            "text/plain": [
              "date                  object\n",
              "coupon_equivalent    float64\n",
              "dtype: object"
            ]
          },
          "metadata": {},
          "execution_count": 37
        }
      ]
    },
    {
      "cell_type": "code",
      "source": [
        "#avg tbill yearly\n",
        "rfr_avg = tbill['coupon_equivalent'].mean()\n",
        "rfr_avg = rfr_avg/100 #Current value is in percent. Need decimal\n",
        "rfr_avg"
      ],
      "metadata": {
        "colab": {
          "base_uri": "https://localhost:8080/"
        },
        "id": "B4UzAqG2gKbj",
        "outputId": "79c80466-821a-40f3-87d4-c09fbc5cf5e4"
      },
      "execution_count": 38,
      "outputs": [
        {
          "output_type": "execute_result",
          "data": {
            "text/plain": [
              "0.010718979266347517"
            ]
          },
          "metadata": {},
          "execution_count": 38
        }
      ]
    },
    {
      "cell_type": "markdown",
      "source": [
        "**CAPITAL ASSET PRICING MODEL**"
      ],
      "metadata": {
        "id": "gJJtqIePv3Di"
      }
    },
    {
      "cell_type": "code",
      "source": [
        "portfolio_m_avg_return"
      ],
      "metadata": {
        "colab": {
          "base_uri": "https://localhost:8080/"
        },
        "id": "lE9tKn9n2Y_w",
        "outputId": "fa929c03-15fc-4c3c-93e4-7563b1e8f9b8"
      },
      "execution_count": 39,
      "outputs": [
        {
          "output_type": "execute_result",
          "data": {
            "text/plain": [
              "Index:^GSPC    0.000419\n",
              "GOOGL          0.000673\n",
              "AMZN           0.000719\n",
              "PFE            0.000593\n",
              "AAPL           0.001097\n",
              "dtype: float64"
            ]
          },
          "metadata": {},
          "execution_count": 39
        }
      ]
    },
    {
      "cell_type": "code",
      "source": [
        "# Calculate weight of portfolio per stock average return\n",
        "portfolio_m_avg_return_df = portfolio_m_avg_return.to_frame()\n",
        "portfolio_m_avg_return_df = portfolio_m_avg_return_df.iloc[1:,] \n",
        "\n",
        "df1 = portfolio_m_avg_return_df.assign(**initial_weight).mul(portfolio_m_avg_return_df)\n",
        "df1 = df1[0].sum()"
      ],
      "metadata": {
        "id": "f-c4-k9_86-l"
      },
      "execution_count": 50,
      "outputs": []
    },
    {
      "cell_type": "code",
      "source": [
        "# Beta\n",
        "beta = calc_reg_beta(portfolio_m_log)\n",
        "beta"
      ],
      "metadata": {
        "colab": {
          "base_uri": "https://localhost:8080/"
        },
        "id": "KgwyO5XAEJuT",
        "outputId": "19ae81d5-7c1e-405d-e4ab-17a8c912f049"
      },
      "execution_count": 49,
      "outputs": [
        {
          "output_type": "execute_result",
          "data": {
            "text/plain": [
              "GOOGL    1.110289\n",
              "AMZN     1.026582\n",
              "PFE      0.607019\n",
              "AAPL     1.217146\n",
              "Name: Beta, dtype: float64"
            ]
          },
          "metadata": {},
          "execution_count": 49
        }
      ]
    },
    {
      "cell_type": "code",
      "source": [
        "#CAPM capital asset pricing model\n",
        "rfr = rfr_avg\n",
        "market_return = ((1 + portfolio_m_avg_return[0])**365) - 1\n",
        "beta = calc_reg_beta(portfolio_m_log)\n",
        "expected_return = rfr + beta*(market_return - rfr)\n",
        "expected_return"
      ],
      "metadata": {
        "id": "xDLVDl6h-lZI",
        "colab": {
          "base_uri": "https://localhost:8080/"
        },
        "outputId": "b5d7666b-7c50-428a-b730-deea8acf9666"
      },
      "execution_count": 42,
      "outputs": [
        {
          "output_type": "execute_result",
          "data": {
            "text/plain": [
              "GOOGL    0.182219\n",
              "AMZN     0.169289\n",
              "PFE      0.104482\n",
              "AAPL     0.198725\n",
              "Name: Beta, dtype: float64"
            ]
          },
          "metadata": {},
          "execution_count": 42
        }
      ]
    },
    {
      "cell_type": "markdown",
      "source": [
        "**JENSEN'S ALPHA**"
      ],
      "metadata": {
        "id": "8JQMU4M4TJih"
      }
    },
    {
      "cell_type": "code",
      "source": [
        "#import libraries\n",
        "import statsmodels.regression.linear_model as lm\n",
        "import statsmodels.tools.tools as ct"
      ],
      "metadata": {
        "id": "avxiWaAtKgvI"
      },
      "execution_count": 51,
      "outputs": []
    },
    {
      "cell_type": "code",
      "source": [
        "portfolio_mean = portfolio.pct_change()   # Get pct change\n",
        "portfolio_mean.dropna(inplace = True)\n",
        "portfolio_mean = portfolio_mean.mean()    # Get avg pct change\n",
        "portfolio_mean = portfolio_mean.to_frame()\n",
        "weighted_return = portfolio_mean.mul(pd.Series(initial_weight), axis = 0) # get weighted returns\n",
        "portfolio_ret = np.sum(weighted_return) # Get total portfolio returns\n",
        "portfolio_ret"
      ],
      "metadata": {
        "colab": {
          "base_uri": "https://localhost:8080/"
        },
        "id": "oLdkvFCNK8U5",
        "outputId": "3bd08b44-02bf-4407-ad75-fe233ad53a41"
      },
      "execution_count": 105,
      "outputs": [
        {
          "output_type": "execute_result",
          "data": {
            "text/plain": [
              "0    0.000948\n",
              "dtype: float64"
            ]
          },
          "metadata": {},
          "execution_count": 105
        }
      ]
    },
    {
      "cell_type": "markdown",
      "source": [
        "**PORTFOLIO STANDARD DEVIATION**"
      ],
      "metadata": {
        "id": "xVJ7OyoVYJld"
      }
    },
    {
      "cell_type": "code",
      "source": [
        "p_std = portfolio.std()\n",
        "p_mean = portfolio.mean() \n",
        "p_cov = p_std/p_mean\n",
        "p_cov"
      ],
      "metadata": {
        "id": "-UbnMtzU-4aw",
        "colab": {
          "base_uri": "https://localhost:8080/"
        },
        "outputId": "28e501a7-c311-468c-8b46-99563a5ab747"
      },
      "execution_count": 116,
      "outputs": [
        {
          "output_type": "execute_result",
          "data": {
            "text/plain": [
              "GOOGL    0.399519\n",
              "AMZN     0.366575\n",
              "PFE      0.204135\n",
              "AAPL     0.544681\n",
              "dtype: float64"
            ]
          },
          "metadata": {},
          "execution_count": 116
        }
      ]
    },
    {
      "cell_type": "markdown",
      "source": [
        "**R-SQUARED MODEL**"
      ],
      "metadata": {
        "id": "IGIO9h3zIaRH"
      }
    },
    {
      "cell_type": "code",
      "source": [
        "#R-Squared\n"
      ],
      "metadata": {
        "id": "-lt-PReQ-0WQ"
      },
      "execution_count": 43,
      "outputs": []
    },
    {
      "cell_type": "code",
      "source": [
        "#Sharpe Ratio"
      ],
      "metadata": {
        "id": "U4a46bCN-8w_"
      },
      "execution_count": 45,
      "outputs": []
    },
    {
      "cell_type": "code",
      "source": [
        "#Efficient Frontiers\n",
        "\n"
      ],
      "metadata": {
        "id": "uw3zjjTN--i4"
      },
      "execution_count": 46,
      "outputs": []
    },
    {
      "cell_type": "code",
      "source": [
        "#Value at Risk"
      ],
      "metadata": {
        "id": "FxLMQ90L_A0-"
      },
      "execution_count": 47,
      "outputs": []
    },
    {
      "cell_type": "code",
      "source": [
        "#The Bottom Line"
      ],
      "metadata": {
        "id": "5BZfYz2Q_D6X"
      },
      "execution_count": 48,
      "outputs": []
    },
    {
      "cell_type": "code",
      "source": [
        "# MONTE CARLO SIMULATION"
      ],
      "metadata": {
        "id": "P8n6OuTzV-bU"
      },
      "execution_count": null,
      "outputs": []
    }
  ]
}